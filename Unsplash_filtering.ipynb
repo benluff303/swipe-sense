{
 "cells": [
  {
   "cell_type": "code",
   "execution_count": 45,
   "id": "281977fd",
   "metadata": {},
   "outputs": [],
   "source": [
    "import pandas as pd\n",
    "\n",
    "photos = pd.read_csv(\"/Users/benjaminluff/code/benluff303/SwipeSense/photos.csv\")\n",
    "keywords = pd.read_csv(\"/Users/benjaminluff/code/benluff303/SwipeSense/keywords.csv\")\n",
    "conversions = pd.read_csv(\"/Users/benjaminluff/code/benluff303/SwipeSense/conversions.csv\")   # optional\n",
    "collections = pd.read_csv(\"/Users/benjaminluff/code/benluff303/SwipeSense/collections.csv\")   # optional\n",
    "colors = pd.read_csv(\"/Users/benjaminluff/code/benluff303/SwipeSense/colors.csv\")             # optional"
   ]
  },
  {
   "cell_type": "code",
   "execution_count": 46,
   "id": "828864ca",
   "metadata": {},
   "outputs": [],
   "source": [
    "photos_df = pd.DataFrame(photos)"
   ]
  },
  {
   "cell_type": "code",
   "execution_count": 47,
   "id": "4defde6c",
   "metadata": {},
   "outputs": [],
   "source": [
    "keywords_df = pd.DataFrame(keywords)"
   ]
  },
  {
   "cell_type": "code",
   "execution_count": 48,
   "id": "6846456e",
   "metadata": {},
   "outputs": [],
   "source": [
    "collections_df = pd.DataFrame(collections)"
   ]
  },
  {
   "cell_type": "code",
   "execution_count": 49,
   "id": "67ea6353",
   "metadata": {},
   "outputs": [],
   "source": [
    "colors_df = pd.DataFrame(colors)"
   ]
  },
  {
   "cell_type": "code",
   "execution_count": 50,
   "id": "5b308b4c",
   "metadata": {},
   "outputs": [
    {
     "name": "stdout",
     "output_type": "stream",
     "text": [
      "      photo_id                                photo_url  \\\n",
      "0  XMyPniM9LF0  https://unsplash.com/photos/XMyPniM9LF0   \n",
      "1  XMyPniM9LF0  https://unsplash.com/photos/XMyPniM9LF0   \n",
      "2  XMyPniM9LF0  https://unsplash.com/photos/XMyPniM9LF0   \n",
      "3  XMyPniM9LF0  https://unsplash.com/photos/XMyPniM9LF0   \n",
      "4  XMyPniM9LF0  https://unsplash.com/photos/XMyPniM9LF0   \n",
      "\n",
      "                                     photo_image_url  \\\n",
      "0  https://images.unsplash.com/uploads/1411949294...   \n",
      "1  https://images.unsplash.com/uploads/1411949294...   \n",
      "2  https://images.unsplash.com/uploads/1411949294...   \n",
      "3  https://images.unsplash.com/uploads/1411949294...   \n",
      "4  https://images.unsplash.com/uploads/1411949294...   \n",
      "\n",
      "           photo_submitted_at photo_featured  photo_width  photo_height  \\\n",
      "0  2014-09-29 00:08:38.594364              t         4272          2848   \n",
      "1  2014-09-29 00:08:38.594364              t         4272          2848   \n",
      "2  2014-09-29 00:08:38.594364              t         4272          2848   \n",
      "3  2014-09-29 00:08:38.594364              t         4272          2848   \n",
      "4  2014-09-29 00:08:38.594364              t         4272          2848   \n",
      "\n",
      "   photo_aspect_ratio         photo_description photographer_username  ...  \\\n",
      "0                 1.5  Woman exploring a forest     michellespencer77  ...   \n",
      "1                 1.5  Woman exploring a forest     michellespencer77  ...   \n",
      "2                 1.5  Woman exploring a forest     michellespencer77  ...   \n",
      "3                 1.5  Woman exploring a forest     michellespencer77  ...   \n",
      "4                 1.5  Woman exploring a forest     michellespencer77  ...   \n",
      "\n",
      "                          ai_description ai_primary_landmark_name  \\\n",
      "0  woman walking in the middle of forest                      NaN   \n",
      "1  woman walking in the middle of forest                      NaN   \n",
      "2  woman walking in the middle of forest                      NaN   \n",
      "3  woman walking in the middle of forest                      NaN   \n",
      "4  woman walking in the middle of forest                      NaN   \n",
      "\n",
      "  ai_primary_landmark_latitude ai_primary_landmark_longitude  \\\n",
      "0                          NaN                           NaN   \n",
      "1                          NaN                           NaN   \n",
      "2                          NaN                           NaN   \n",
      "3                          NaN                           NaN   \n",
      "4                          NaN                           NaN   \n",
      "\n",
      "   ai_primary_landmark_confidence                     blur_hash     keyword  \\\n",
      "0                             NaN  L56bVcRRIWMh.gVunlS4SMbsRRxr       shack   \n",
      "1                             NaN  L56bVcRRIWMh.gVunlS4SMbsRRxr       plant   \n",
      "2                             NaN  L56bVcRRIWMh.gVunlS4SMbsRRxr  vegetation   \n",
      "3                             NaN  L56bVcRRIWMh.gVunlS4SMbsRRxr      jungle   \n",
      "4                             NaN  L56bVcRRIWMh.gVunlS4SMbsRRxr     thicket   \n",
      "\n",
      "  ai_service_1_confidence ai_service_2_confidence  suggested_by_user  \n",
      "0               55.210800                     NaN                  f  \n",
      "1               93.928215                     NaN                  f  \n",
      "2               93.928215               92.175734                  f  \n",
      "3               87.716881                     NaN                  t  \n",
      "4                     NaN                     NaN                  t  \n",
      "\n",
      "[5 rows x 35 columns]\n"
     ]
    }
   ],
   "source": [
    "merged_df = photos_df.merge(keywords_df, on=\"photo_id\", how=\"left\")\n",
    "\n",
    "print(merged_df.head())"
   ]
  },
  {
   "cell_type": "code",
   "execution_count": 51,
   "id": "b48f56ad",
   "metadata": {},
   "outputs": [
    {
     "name": "stdout",
     "output_type": "stream",
     "text": [
      "      photo_id                                photo_url  \\\n",
      "0  XMyPniM9LF0  https://unsplash.com/photos/XMyPniM9LF0   \n",
      "1  rDLBArZUl1c  https://unsplash.com/photos/rDLBArZUl1c   \n",
      "2  cNDGZ2sQ3Bo  https://unsplash.com/photos/cNDGZ2sQ3Bo   \n",
      "3  iuZ_D1eoq9k  https://unsplash.com/photos/iuZ_D1eoq9k   \n",
      "4  BeD3vjQ8SI0  https://unsplash.com/photos/BeD3vjQ8SI0   \n",
      "\n",
      "                                     photo_image_url  \\\n",
      "0  https://images.unsplash.com/uploads/1411949294...   \n",
      "1  https://images.unsplash.com/photo-141633941111...   \n",
      "2  https://images.unsplash.com/photo-142014251503...   \n",
      "3  https://images.unsplash.com/photo-141487280988...   \n",
      "4  https://images.unsplash.com/photo-141700759404...   \n",
      "\n",
      "           photo_submitted_at photo_featured  photo_width  photo_height  \\\n",
      "0  2014-09-29 00:08:38.594364              t         4272          2848   \n",
      "1   2014-11-18 19:36:57.08945              t         3000          4000   \n",
      "2  2015-01-01 20:02:02.097036              t         2564          1710   \n",
      "3  2014-11-01 20:15:13.410073              t         2912          4368   \n",
      "4  2014-11-26 13:13:50.134383              t         4896          3264   \n",
      "\n",
      "   photo_aspect_ratio           photo_description photographer_username  ...  \\\n",
      "0                1.50    Woman exploring a forest     michellespencer77  ...   \n",
      "1                0.75   Succulents in a terrarium                ugmonk  ...   \n",
      "2                1.50   Rural winter mountainside             johnprice  ...   \n",
      "3                0.67     Poppy seeds and flowers            krisatomic  ...   \n",
      "4                1.50  Silhouette near dark trees         jonaseriksson  ...   \n",
      "\n",
      "  photo_location_city stats_views stats_downloads  \\\n",
      "0                 NaN     2375421            6967   \n",
      "1                 NaN    13784815           82141   \n",
      "2                 NaN     1302461            3428   \n",
      "3                 NaN     2890238           33704   \n",
      "4                 NaN     8704860           49662   \n",
      "\n",
      "                                      ai_description  \\\n",
      "0              woman walking in the middle of forest   \n",
      "1          succulent plants in clear glass terrarium   \n",
      "2           rocky mountain under gray sky at daytime   \n",
      "3  red common poppy flower selective focus phography   \n",
      "4                            trees during night time   \n",
      "\n",
      "   ai_primary_landmark_name ai_primary_landmark_latitude  \\\n",
      "0                       NaN                          NaN   \n",
      "1                       NaN                          NaN   \n",
      "2                       NaN                          NaN   \n",
      "3                       NaN                          NaN   \n",
      "4                       NaN                          NaN   \n",
      "\n",
      "  ai_primary_landmark_longitude ai_primary_landmark_confidence  \\\n",
      "0                           NaN                            NaN   \n",
      "1                           NaN                            NaN   \n",
      "2                           NaN                            NaN   \n",
      "3                           NaN                            NaN   \n",
      "4                           NaN                            NaN   \n",
      "\n",
      "                      blur_hash  \\\n",
      "0  L56bVcRRIWMh.gVunlS4SMbsRRxr   \n",
      "1  LvI$4txu%2s:_4t6WUj]xat7RPoe   \n",
      "2  LhMj%NxvM{t7_4t7aeoM%2M{ozj[   \n",
      "3  LSC7DirZAsX7}Br@GEWWmnoLWCnj   \n",
      "4  L25|_:V@0hxtI=W;odae0ht6=^NG   \n",
      "\n",
      "                                             keyword  \n",
      "0  [shack, plant, vegetation, jungle, thicket, pa...  \n",
      "1  [decor, growing, glass bowl, succulent, leaves...  \n",
      "2  [freeze, fog, landscape, rubble, mountain rang...  \n",
      "3  [bud, bloom, poppy flower, poppy, flora, plant...  \n",
      "4  [dawn, conifer, sunshine, trees, atmospheric p...  \n",
      "\n",
      "[5 rows x 32 columns]\n"
     ]
    }
   ],
   "source": [
    "# I am grouping all keywords into a list per photo\n",
    "\n",
    "keywords_grouped = keywords_df.groupby(\"photo_id\")[\"keyword\"].apply(list).reset_index()\n",
    "\n",
    "# Then I merge it back\n",
    "\n",
    "photos_plus_keywords = photos_df.merge(keywords_grouped, on=\"photo_id\", how=\"left\")\n",
    "\n",
    "print(photos_plus_keywords.head())"
   ]
  },
  {
   "cell_type": "code",
   "execution_count": 52,
   "id": "41b1ce33",
   "metadata": {},
   "outputs": [
    {
     "name": "stdout",
     "output_type": "stream",
     "text": [
      "1751\n"
     ]
    }
   ],
   "source": [
    "travel_keywords = pd.read_csv(\"/Users/benjaminluff/code/benluff303/SwipeSense/Travel_keywords_26_Aug.csv\", header=None)[0].str.lower().tolist()\n",
    "travel_keywords = set(travel_keywords)\n",
    "\n",
    "print(len(travel_keywords))"
   ]
  },
  {
   "cell_type": "code",
   "execution_count": 53,
   "id": "0f29a68d",
   "metadata": {},
   "outputs": [],
   "source": [
    "travel_keywords_df = pd.DataFrame(travel_keywords)"
   ]
  },
  {
   "cell_type": "code",
   "execution_count": 54,
   "id": "bfa9520d",
   "metadata": {},
   "outputs": [],
   "source": [
    "travel_keywords_df['norm'] = travel_keywords_df[0].dropna().str.strip().str.lower()"
   ]
  },
  {
   "cell_type": "code",
   "execution_count": 55,
   "id": "7621603d",
   "metadata": {},
   "outputs": [],
   "source": [
    "dupes = merged_df[merged_df[\"photo_id\"].duplicated(keep=False)]"
   ]
  },
  {
   "cell_type": "code",
   "execution_count": 56,
   "id": "86ba5815",
   "metadata": {},
   "outputs": [
    {
     "name": "stdout",
     "output_type": "stream",
     "text": [
      "Number of duplicate rows: 2609889\n",
      "Photo IDs with duplicates: 25000\n"
     ]
    }
   ],
   "source": [
    "# Total number of duplicated rows (beyond each initial instance)\n",
    "\n",
    "num_dupes = merged_df[\"photo_id\"].duplicated().sum()\n",
    "print(\"Number of duplicate rows:\", num_dupes)\n",
    "\n",
    "# Total number of photo_ids that occur more than once\n",
    "\n",
    "num_ids_with_dupes = (merged_df[\"photo_id\"].value_counts() > 1).sum()\n",
    "print(\"Photo IDs with duplicates:\", num_ids_with_dupes)"
   ]
  },
  {
   "cell_type": "code",
   "execution_count": 57,
   "id": "3483fc14",
   "metadata": {},
   "outputs": [],
   "source": [
    "merged_df[\"keyword\"] = (\n",
    "    merged_df[\"keyword\"]\n",
    "    .astype(str)   # ensuring all entries are strings\n",
    "    .str.strip()   # remove spaces\n",
    "    .str.lower()   # convert to lowercase\n",
    ")"
   ]
  },
  {
   "cell_type": "code",
   "execution_count": 58,
   "id": "d15605e5",
   "metadata": {},
   "outputs": [
    {
     "name": "stdout",
     "output_type": "stream",
     "text": [
      "(2634889, 35)\n"
     ]
    }
   ],
   "source": [
    "print(merged_df.shape)"
   ]
  },
  {
   "cell_type": "code",
   "execution_count": 59,
   "id": "a4f623c2",
   "metadata": {},
   "outputs": [
    {
     "name": "stdout",
     "output_type": "stream",
     "text": [
      "Filter set size: 1751\n"
     ]
    }
   ],
   "source": [
    "filter_set = set(travel_keywords_df[\"norm\"])\n",
    "print(\"Filter set size:\", len(filter_set))"
   ]
  },
  {
   "cell_type": "code",
   "execution_count": 60,
   "id": "d5416dcb",
   "metadata": {},
   "outputs": [
    {
     "name": "stdout",
     "output_type": "stream",
     "text": [
      "(165301, 35)\n"
     ]
    }
   ],
   "source": [
    "filtered_df = merged_df[merged_df[\"keyword\"].isin(filter_set)]\n",
    "print(filtered_df.shape)"
   ]
  },
  {
   "cell_type": "code",
   "execution_count": 61,
   "id": "08eb8e3f",
   "metadata": {},
   "outputs": [
    {
     "name": "stdout",
     "output_type": "stream",
     "text": [
      "Number of duplicate rows: 144399\n",
      "Photo IDs with duplicates: 18613\n"
     ]
    }
   ],
   "source": [
    "# Total number of duplicated rows (beyond the first instance)\n",
    "\n",
    "num_dupes = filtered_df[\"photo_id\"].duplicated().sum()\n",
    "print(\"Number of duplicate rows:\", num_dupes)\n",
    "\n",
    "# Total number of photo_ids that occur more than once\n",
    "\n",
    "num_ids_with_dupes = (filtered_df[\"photo_id\"].value_counts() > 1).sum()\n",
    "print(\"Photo IDs with duplicates:\", num_ids_with_dupes)"
   ]
  },
  {
   "cell_type": "code",
   "execution_count": 62,
   "id": "bef8f3f9",
   "metadata": {},
   "outputs": [
    {
     "data": {
      "text/plain": [
       "photo_id\n",
       "9oXw9OCGBFY    38\n",
       "51dAtAlho8c    38\n",
       "MtRVfdKWbPI    35\n",
       "ZBUesmAQapY    34\n",
       "lDIFWfKzqAg    33\n",
       "BkmdKnuAZtw    33\n",
       "8JzoJyt3hyM    32\n",
       "tk2ROSG9Lyo    32\n",
       "WB-tCcWcLYs    32\n",
       "oJmVzkVStoo    31\n",
       "Name: count, dtype: int64"
      ]
     },
     "execution_count": 62,
     "metadata": {},
     "output_type": "execute_result"
    }
   ],
   "source": [
    "filtered_df[\"photo_id\"].value_counts().head(10)"
   ]
  },
  {
   "cell_type": "code",
   "execution_count": 63,
   "id": "14e52cf3",
   "metadata": {},
   "outputs": [
    {
     "data": {
      "text/plain": [
       "(20902, 33)"
      ]
     },
     "execution_count": 63,
     "metadata": {},
     "output_type": "execute_result"
    }
   ],
   "source": [
    "# 1) IDs that survived my keyword filter\n",
    "\n",
    "keep_ids = filtered_df[\"photo_id\"].unique()\n",
    "len(keep_ids)  # ~18903\n",
    "\n",
    "# 2) Aggregates built ONLY from the filtered rows\n",
    "\n",
    "kw_per_photo = (filtered_df.groupby(\"photo_id\")[\"keyword\"]\n",
    "                .apply(lambda s: sorted(set(s.str.strip().str.lower())))\n",
    "                .rename(\"matched_keywords\"))\n",
    "\n",
    "kw_count = (filtered_df.groupby(\"photo_id\")[\"keyword\"]\n",
    "            .count()\n",
    "            .rename(\"kw_count\"))\n",
    "\n",
    "# 3) Start from the kept IDs and attach photo metadata (inner join)\n",
    "\n",
    "photos_subset = photos_df[photos_df[\"photo_id\"].isin(keep_ids)].drop_duplicates(\"photo_id\").set_index(\"photo_id\")\n",
    "\n",
    "per_photo = (photos_subset\n",
    "             .join([kw_per_photo, kw_count], how=\"inner\")  # inner keeps only IDs present in aggregates\n",
    "             .reset_index())\n",
    "\n",
    "per_photo.shape\n"
   ]
  },
  {
   "cell_type": "code",
   "execution_count": 64,
   "id": "fcc78d28",
   "metadata": {},
   "outputs": [
    {
     "data": {
      "text/plain": [
       "0"
      ]
     },
     "execution_count": 64,
     "metadata": {},
     "output_type": "execute_result"
    }
   ],
   "source": [
    "per_photo[\"photo_id\"].nunique()\n",
    "(per_photo[\"matched_keywords\"].isna()).sum()\n",
    "\n",
    "# I want 0 here"
   ]
  },
  {
   "cell_type": "code",
   "execution_count": 65,
   "id": "1906ceb1",
   "metadata": {},
   "outputs": [
    {
     "data": {
      "text/plain": [
       "(20902, 33)"
      ]
     },
     "execution_count": 65,
     "metadata": {},
     "output_type": "execute_result"
    }
   ],
   "source": [
    "mask = pd.Series(True, index=per_photo.index)\n",
    "\n",
    "# Location metadata\n",
    "\n",
    "#mask &= per_photo[\"photo_location_country\"].notna() | per_photo[\"photo_location_city\"].notna()\n",
    "\n",
    "curated = per_photo[mask].copy()\n",
    "curated.shape\n",
    "\n",
    "\n",
    "#other things I could try...\n",
    "# require at least 2 matched travel keywords\n",
    "#mask &= per_photo[\"kw_count\"].fillna(0) >= 2\n",
    "\n",
    "# popularity\n",
    "#if \"stats_downloads\" in per_photo.columns:\n",
    "   # mask &= per_photo[\"stats_downloads\"].fillna(0) >= 5"
   ]
  },
  {
   "cell_type": "code",
   "execution_count": null,
   "id": "b09ff4b0",
   "metadata": {},
   "outputs": [
    {
     "data": {
      "text/html": [
       "<div>\n",
       "<style scoped>\n",
       "    .dataframe tbody tr th:only-of-type {\n",
       "        vertical-align: middle;\n",
       "    }\n",
       "\n",
       "    .dataframe tbody tr th {\n",
       "        vertical-align: top;\n",
       "    }\n",
       "\n",
       "    .dataframe thead th {\n",
       "        text-align: right;\n",
       "    }\n",
       "</style>\n",
       "<table border=\"1\" class=\"dataframe\">\n",
       "  <thead>\n",
       "    <tr style=\"text-align: right;\">\n",
       "      <th></th>\n",
       "      <th>photo_id</th>\n",
       "      <th>photo_url</th>\n",
       "      <th>photo_image_url</th>\n",
       "      <th>photo_submitted_at</th>\n",
       "      <th>photo_featured</th>\n",
       "      <th>photo_width</th>\n",
       "      <th>photo_height</th>\n",
       "      <th>photo_aspect_ratio</th>\n",
       "      <th>photo_description</th>\n",
       "      <th>photographer_username</th>\n",
       "      <th>...</th>\n",
       "      <th>stats_views</th>\n",
       "      <th>stats_downloads</th>\n",
       "      <th>ai_description</th>\n",
       "      <th>ai_primary_landmark_name</th>\n",
       "      <th>ai_primary_landmark_latitude</th>\n",
       "      <th>ai_primary_landmark_longitude</th>\n",
       "      <th>ai_primary_landmark_confidence</th>\n",
       "      <th>blur_hash</th>\n",
       "      <th>matched_keywords</th>\n",
       "      <th>kw_count</th>\n",
       "    </tr>\n",
       "  </thead>\n",
       "  <tbody>\n",
       "    <tr>\n",
       "      <th>0</th>\n",
       "      <td>XMyPniM9LF0</td>\n",
       "      <td>https://unsplash.com/photos/XMyPniM9LF0</td>\n",
       "      <td>https://images.unsplash.com/uploads/1411949294...</td>\n",
       "      <td>2014-09-29 00:08:38.594364</td>\n",
       "      <td>t</td>\n",
       "      <td>4272</td>\n",
       "      <td>2848</td>\n",
       "      <td>1.50</td>\n",
       "      <td>Woman exploring a forest</td>\n",
       "      <td>michellespencer77</td>\n",
       "      <td>...</td>\n",
       "      <td>2375421</td>\n",
       "      <td>6967</td>\n",
       "      <td>woman walking in the middle of forest</td>\n",
       "      <td>NaN</td>\n",
       "      <td>NaN</td>\n",
       "      <td>NaN</td>\n",
       "      <td>NaN</td>\n",
       "      <td>L56bVcRRIWMh.gVunlS4SMbsRRxr</td>\n",
       "      <td>[adventure, building, forest, journey, jungle,...</td>\n",
       "      <td>7</td>\n",
       "    </tr>\n",
       "    <tr>\n",
       "      <th>1</th>\n",
       "      <td>cNDGZ2sQ3Bo</td>\n",
       "      <td>https://unsplash.com/photos/cNDGZ2sQ3Bo</td>\n",
       "      <td>https://images.unsplash.com/photo-142014251503...</td>\n",
       "      <td>2015-01-01 20:02:02.097036</td>\n",
       "      <td>t</td>\n",
       "      <td>2564</td>\n",
       "      <td>1710</td>\n",
       "      <td>1.50</td>\n",
       "      <td>Rural winter mountainside</td>\n",
       "      <td>johnprice</td>\n",
       "      <td>...</td>\n",
       "      <td>1302461</td>\n",
       "      <td>3428</td>\n",
       "      <td>rocky mountain under gray sky at daytime</td>\n",
       "      <td>NaN</td>\n",
       "      <td>NaN</td>\n",
       "      <td>NaN</td>\n",
       "      <td>NaN</td>\n",
       "      <td>LhMj%NxvM{t7_4t7aeoM%2M{ozj[</td>\n",
       "      <td>[glacier, mountain, mountain range, plateau]</td>\n",
       "      <td>4</td>\n",
       "    </tr>\n",
       "    <tr>\n",
       "      <th>2</th>\n",
       "      <td>BeD3vjQ8SI0</td>\n",
       "      <td>https://unsplash.com/photos/BeD3vjQ8SI0</td>\n",
       "      <td>https://images.unsplash.com/photo-141700759404...</td>\n",
       "      <td>2014-11-26 13:13:50.134383</td>\n",
       "      <td>t</td>\n",
       "      <td>4896</td>\n",
       "      <td>3264</td>\n",
       "      <td>1.50</td>\n",
       "      <td>Silhouette near dark trees</td>\n",
       "      <td>jonaseriksson</td>\n",
       "      <td>...</td>\n",
       "      <td>8704860</td>\n",
       "      <td>49662</td>\n",
       "      <td>trees during night time</td>\n",
       "      <td>NaN</td>\n",
       "      <td>NaN</td>\n",
       "      <td>NaN</td>\n",
       "      <td>NaN</td>\n",
       "      <td>L25|_:V@0hxtI=W;odae0ht6=^NG</td>\n",
       "      <td>[camping, city, forest, jungle, park]</td>\n",
       "      <td>5</td>\n",
       "    </tr>\n",
       "    <tr>\n",
       "      <th>3</th>\n",
       "      <td>dO0KS_QGnzY</td>\n",
       "      <td>https://unsplash.com/photos/dO0KS_QGnzY</td>\n",
       "      <td>https://images.unsplash.com/uploads/1411476843...</td>\n",
       "      <td>2014-09-23 12:56:00.965116</td>\n",
       "      <td>t</td>\n",
       "      <td>2816</td>\n",
       "      <td>2112</td>\n",
       "      <td>1.33</td>\n",
       "      <td>Riding lessons in the mountains</td>\n",
       "      <td>raychsy</td>\n",
       "      <td>...</td>\n",
       "      <td>2040630</td>\n",
       "      <td>8503</td>\n",
       "      <td>riding people on horses during daytime</td>\n",
       "      <td>Mount Bromo</td>\n",
       "      <td>-7.93775</td>\n",
       "      <td>112.952476</td>\n",
       "      <td>49.84942</td>\n",
       "      <td>LqBOm;WCocWWu6WBoea#IBaef8fk</td>\n",
       "      <td>[beach, coast, desert, glacier, journey, mount...</td>\n",
       "      <td>11</td>\n",
       "    </tr>\n",
       "    <tr>\n",
       "      <th>4</th>\n",
       "      <td>ocwmWiNAWGs</td>\n",
       "      <td>https://unsplash.com/photos/ocwmWiNAWGs</td>\n",
       "      <td>https://images.unsplash.com/reserve/m6rT4MYFQ7...</td>\n",
       "      <td>2014-06-03 16:22:34</td>\n",
       "      <td>t</td>\n",
       "      <td>2310</td>\n",
       "      <td>1534</td>\n",
       "      <td>1.51</td>\n",
       "      <td>Grass and morning sun</td>\n",
       "      <td>jakegivens</td>\n",
       "      <td>...</td>\n",
       "      <td>25112307</td>\n",
       "      <td>306708</td>\n",
       "      <td>scenery of grass and trees</td>\n",
       "      <td>NaN</td>\n",
       "      <td>NaN</td>\n",
       "      <td>NaN</td>\n",
       "      <td>NaN</td>\n",
       "      <td>LmIhKix[4:M|~qt7IUWBtRRjofof</td>\n",
       "      <td>[park]</td>\n",
       "      <td>1</td>\n",
       "    </tr>\n",
       "  </tbody>\n",
       "</table>\n",
       "<p>5 rows × 33 columns</p>\n",
       "</div>"
      ],
      "text/plain": [
       "      photo_id                                photo_url  \\\n",
       "0  XMyPniM9LF0  https://unsplash.com/photos/XMyPniM9LF0   \n",
       "1  cNDGZ2sQ3Bo  https://unsplash.com/photos/cNDGZ2sQ3Bo   \n",
       "2  BeD3vjQ8SI0  https://unsplash.com/photos/BeD3vjQ8SI0   \n",
       "3  dO0KS_QGnzY  https://unsplash.com/photos/dO0KS_QGnzY   \n",
       "4  ocwmWiNAWGs  https://unsplash.com/photos/ocwmWiNAWGs   \n",
       "\n",
       "                                     photo_image_url  \\\n",
       "0  https://images.unsplash.com/uploads/1411949294...   \n",
       "1  https://images.unsplash.com/photo-142014251503...   \n",
       "2  https://images.unsplash.com/photo-141700759404...   \n",
       "3  https://images.unsplash.com/uploads/1411476843...   \n",
       "4  https://images.unsplash.com/reserve/m6rT4MYFQ7...   \n",
       "\n",
       "           photo_submitted_at photo_featured  photo_width  photo_height  \\\n",
       "0  2014-09-29 00:08:38.594364              t         4272          2848   \n",
       "1  2015-01-01 20:02:02.097036              t         2564          1710   \n",
       "2  2014-11-26 13:13:50.134383              t         4896          3264   \n",
       "3  2014-09-23 12:56:00.965116              t         2816          2112   \n",
       "4         2014-06-03 16:22:34              t         2310          1534   \n",
       "\n",
       "   photo_aspect_ratio                photo_description photographer_username  \\\n",
       "0                1.50         Woman exploring a forest     michellespencer77   \n",
       "1                1.50        Rural winter mountainside             johnprice   \n",
       "2                1.50       Silhouette near dark trees         jonaseriksson   \n",
       "3                1.33  Riding lessons in the mountains               raychsy   \n",
       "4                1.51            Grass and morning sun            jakegivens   \n",
       "\n",
       "   ... stats_views stats_downloads                            ai_description  \\\n",
       "0  ...     2375421            6967     woman walking in the middle of forest   \n",
       "1  ...     1302461            3428  rocky mountain under gray sky at daytime   \n",
       "2  ...     8704860           49662                   trees during night time   \n",
       "3  ...     2040630            8503    riding people on horses during daytime   \n",
       "4  ...    25112307          306708                scenery of grass and trees   \n",
       "\n",
       "  ai_primary_landmark_name  ai_primary_landmark_latitude  \\\n",
       "0                      NaN                           NaN   \n",
       "1                      NaN                           NaN   \n",
       "2                      NaN                           NaN   \n",
       "3              Mount Bromo                      -7.93775   \n",
       "4                      NaN                           NaN   \n",
       "\n",
       "  ai_primary_landmark_longitude ai_primary_landmark_confidence  \\\n",
       "0                           NaN                            NaN   \n",
       "1                           NaN                            NaN   \n",
       "2                           NaN                            NaN   \n",
       "3                    112.952476                       49.84942   \n",
       "4                           NaN                            NaN   \n",
       "\n",
       "                      blur_hash  \\\n",
       "0  L56bVcRRIWMh.gVunlS4SMbsRRxr   \n",
       "1  LhMj%NxvM{t7_4t7aeoM%2M{ozj[   \n",
       "2  L25|_:V@0hxtI=W;odae0ht6=^NG   \n",
       "3  LqBOm;WCocWWu6WBoea#IBaef8fk   \n",
       "4  LmIhKix[4:M|~qt7IUWBtRRjofof   \n",
       "\n",
       "                                    matched_keywords  kw_count  \n",
       "0  [adventure, building, forest, journey, jungle,...         7  \n",
       "1       [glacier, mountain, mountain range, plateau]         4  \n",
       "2              [camping, city, forest, jungle, park]         5  \n",
       "3  [beach, coast, desert, glacier, journey, mount...        11  \n",
       "4                                             [park]         1  \n",
       "\n",
       "[5 rows x 33 columns]"
      ]
     },
     "execution_count": 66,
     "metadata": {},
     "output_type": "execute_result"
    }
   ],
   "source": [
    "curated.head()"
   ]
  },
  {
   "cell_type": "code",
   "execution_count": 74,
   "id": "f89b7609",
   "metadata": {},
   "outputs": [
    {
     "data": {
      "text/plain": [
       "'https://images.unsplash.com/uploads/14119492946973137ce46/f1f2ebf3'"
      ]
     },
     "execution_count": 74,
     "metadata": {},
     "output_type": "execute_result"
    }
   ],
   "source": [
    "curated.photo_image_url.iloc[0]"
   ]
  },
  {
   "cell_type": "code",
   "execution_count": 72,
   "id": "96f531ab",
   "metadata": {},
   "outputs": [
    {
     "name": "stdout",
     "output_type": "stream",
     "text": [
      "No match found — check the URL string carefully\n"
     ]
    }
   ],
   "source": [
    "url = \"https://unsplash.com/photos/GBjvTQTou2D0KTHomMoA_IMG_1568-4531b5a7\"\n",
    "\n",
    "row = curated.loc[curated[\"photo_url\"] == url, [\"matched_keywords\", \"photo_description\"]]\n",
    "\n",
    "if row.empty:\n",
    "    print(\"No match found — check the URL string carefully\")\n",
    "else:\n",
    "    print(\"Keywords:\", row[\"matched_keywords\"].iloc[0])\n",
    "    print(\"Description:\", row[\"photo_description\"].iloc[0])"
   ]
  },
  {
   "cell_type": "code",
   "execution_count": 67,
   "id": "52af4f99",
   "metadata": {},
   "outputs": [
    {
     "data": {
      "text/html": [
       "<div>\n",
       "<style scoped>\n",
       "    .dataframe tbody tr th:only-of-type {\n",
       "        vertical-align: middle;\n",
       "    }\n",
       "\n",
       "    .dataframe tbody tr th {\n",
       "        vertical-align: top;\n",
       "    }\n",
       "\n",
       "    .dataframe thead th {\n",
       "        text-align: right;\n",
       "    }\n",
       "</style>\n",
       "<table border=\"1\" class=\"dataframe\">\n",
       "  <thead>\n",
       "    <tr style=\"text-align: right;\">\n",
       "      <th></th>\n",
       "      <th>photo_id</th>\n",
       "      <th>photo_url</th>\n",
       "      <th>photo_image_url</th>\n",
       "      <th>photo_submitted_at</th>\n",
       "      <th>photo_featured</th>\n",
       "      <th>photo_width</th>\n",
       "      <th>photo_height</th>\n",
       "      <th>photo_aspect_ratio</th>\n",
       "      <th>photo_description</th>\n",
       "      <th>photographer_username</th>\n",
       "      <th>...</th>\n",
       "      <th>stats_views</th>\n",
       "      <th>stats_downloads</th>\n",
       "      <th>ai_description</th>\n",
       "      <th>ai_primary_landmark_name</th>\n",
       "      <th>ai_primary_landmark_latitude</th>\n",
       "      <th>ai_primary_landmark_longitude</th>\n",
       "      <th>ai_primary_landmark_confidence</th>\n",
       "      <th>blur_hash</th>\n",
       "      <th>matched_keywords</th>\n",
       "      <th>kw_count</th>\n",
       "    </tr>\n",
       "  </thead>\n",
       "  <tbody>\n",
       "  </tbody>\n",
       "</table>\n",
       "<p>0 rows × 33 columns</p>\n",
       "</div>"
      ],
      "text/plain": [
       "Empty DataFrame\n",
       "Columns: [photo_id, photo_url, photo_image_url, photo_submitted_at, photo_featured, photo_width, photo_height, photo_aspect_ratio, photo_description, photographer_username, photographer_first_name, photographer_last_name, exif_camera_make, exif_camera_model, exif_iso, exif_aperture_value, exif_focal_length, exif_exposure_time, photo_location_name, photo_location_latitude, photo_location_longitude, photo_location_country, photo_location_city, stats_views, stats_downloads, ai_description, ai_primary_landmark_name, ai_primary_landmark_latitude, ai_primary_landmark_longitude, ai_primary_landmark_confidence, blur_hash, matched_keywords, kw_count]\n",
       "Index: []\n",
       "\n",
       "[0 rows x 33 columns]"
      ]
     },
     "execution_count": 67,
     "metadata": {},
     "output_type": "execute_result"
    }
   ],
   "source": [
    "curated[curated[\"photo_id\"].duplicated(keep=False)].sort_values(\"photo_id\")"
   ]
  },
  {
   "cell_type": "code",
   "execution_count": 68,
   "id": "353da999",
   "metadata": {},
   "outputs": [],
   "source": [
    "from google.cloud import storage\n",
    "\n",
    "# Force explicit key usage\n",
    "client = storage.Client.from_service_account_json(\n",
    "    \"/Users/benjaminluff/code/benluff303/swipe-sense/keys/swipe-space-470211-b6cdb6bfb18b.json\"\n",
    ")\n",
    "\n",
    "bucket = client.bucket(\"swipe-bucket\")\n"
   ]
  },
  {
   "cell_type": "code",
   "execution_count": 69,
   "id": "a026a6e5",
   "metadata": {},
   "outputs": [
    {
     "name": "stderr",
     "output_type": "stream",
     "text": [
      "Uploading to GCS:   4%|▍         | 42/1000 [02:05<47:49,  3.00s/it] \n"
     ]
    },
    {
     "ename": "KeyboardInterrupt",
     "evalue": "",
     "output_type": "error",
     "traceback": [
      "\u001b[31m---------------------------------------------------------------------------\u001b[39m",
      "\u001b[31mKeyboardInterrupt\u001b[39m                         Traceback (most recent call last)",
      "\u001b[36mCell\u001b[39m\u001b[36m \u001b[39m\u001b[32mIn[69]\u001b[39m\u001b[32m, line 59\u001b[39m\n\u001b[32m     57\u001b[39m \u001b[38;5;28;01mfor\u001b[39;00m url \u001b[38;5;129;01min\u001b[39;00m tqdm(DF[URL_COL].head(ROW_LIMIT), desc=\u001b[33m\"\u001b[39m\u001b[33mUploading to GCS\u001b[39m\u001b[33m\"\u001b[39m):\n\u001b[32m     58\u001b[39m     blob_name = make_filename(url)\n\u001b[32m---> \u001b[39m\u001b[32m59\u001b[39m     \u001b[43mdownload_and_upload\u001b[49m\u001b[43m(\u001b[49m\u001b[43murl\u001b[49m\u001b[43m,\u001b[49m\u001b[43m \u001b[49m\u001b[43mblob_name\u001b[49m\u001b[43m)\u001b[49m\n\u001b[32m     60\u001b[39m     time.sleep(SLEEP_BETWEEN)\n",
      "\u001b[36mCell\u001b[39m\u001b[36m \u001b[39m\u001b[32mIn[69]\u001b[39m\u001b[32m, line 42\u001b[39m, in \u001b[36mdownload_and_upload\u001b[39m\u001b[34m(url, blob_name)\u001b[39m\n\u001b[32m     40\u001b[39m \u001b[38;5;28;01mfor\u001b[39;00m attempt \u001b[38;5;129;01min\u001b[39;00m \u001b[38;5;28mrange\u001b[39m(\u001b[32m1\u001b[39m, RETRY_TIMES + \u001b[32m1\u001b[39m):\n\u001b[32m     41\u001b[39m     \u001b[38;5;28;01mtry\u001b[39;00m:\n\u001b[32m---> \u001b[39m\u001b[32m42\u001b[39m         \u001b[38;5;28;01mwith\u001b[39;00m \u001b[43mrequests\u001b[49m\u001b[43m.\u001b[49m\u001b[43mget\u001b[49m\u001b[43m(\u001b[49m\u001b[43murl\u001b[49m\u001b[43m,\u001b[49m\u001b[43m \u001b[49m\u001b[43mheaders\u001b[49m\u001b[43m=\u001b[49m\u001b[43mHEADERS\u001b[49m\u001b[43m,\u001b[49m\u001b[43m \u001b[49m\u001b[43mtimeout\u001b[49m\u001b[43m=\u001b[49m\u001b[43mREQUEST_TIMEOUT\u001b[49m\u001b[43m,\u001b[49m\u001b[43m \u001b[49m\u001b[43mstream\u001b[49m\u001b[43m=\u001b[49m\u001b[38;5;28;43;01mTrue\u001b[39;49;00m\u001b[43m)\u001b[49m \u001b[38;5;28;01mas\u001b[39;00m r:\n\u001b[32m     43\u001b[39m             \u001b[38;5;28;01mif\u001b[39;00m r.status_code == \u001b[32m200\u001b[39m:\n\u001b[32m     44\u001b[39m                 upload_to_gcs(blob_name, r.content)\n",
      "\u001b[36mFile \u001b[39m\u001b[32m~/.pyenv/versions/3.12.9/envs/lewagon/lib/python3.12/site-packages/requests/api.py:73\u001b[39m, in \u001b[36mget\u001b[39m\u001b[34m(url, params, **kwargs)\u001b[39m\n\u001b[32m     62\u001b[39m \u001b[38;5;28;01mdef\u001b[39;00m\u001b[38;5;250m \u001b[39m\u001b[34mget\u001b[39m(url, params=\u001b[38;5;28;01mNone\u001b[39;00m, **kwargs):\n\u001b[32m     63\u001b[39m \u001b[38;5;250m    \u001b[39m\u001b[33mr\u001b[39m\u001b[33;03m\"\"\"Sends a GET request.\u001b[39;00m\n\u001b[32m     64\u001b[39m \n\u001b[32m     65\u001b[39m \u001b[33;03m    :param url: URL for the new :class:`Request` object.\u001b[39;00m\n\u001b[32m   (...)\u001b[39m\u001b[32m     70\u001b[39m \u001b[33;03m    :rtype: requests.Response\u001b[39;00m\n\u001b[32m     71\u001b[39m \u001b[33;03m    \"\"\"\u001b[39;00m\n\u001b[32m---> \u001b[39m\u001b[32m73\u001b[39m     \u001b[38;5;28;01mreturn\u001b[39;00m \u001b[43mrequest\u001b[49m\u001b[43m(\u001b[49m\u001b[33;43m\"\u001b[39;49m\u001b[33;43mget\u001b[39;49m\u001b[33;43m\"\u001b[39;49m\u001b[43m,\u001b[49m\u001b[43m \u001b[49m\u001b[43murl\u001b[49m\u001b[43m,\u001b[49m\u001b[43m \u001b[49m\u001b[43mparams\u001b[49m\u001b[43m=\u001b[49m\u001b[43mparams\u001b[49m\u001b[43m,\u001b[49m\u001b[43m \u001b[49m\u001b[43m*\u001b[49m\u001b[43m*\u001b[49m\u001b[43mkwargs\u001b[49m\u001b[43m)\u001b[49m\n",
      "\u001b[36mFile \u001b[39m\u001b[32m~/.pyenv/versions/3.12.9/envs/lewagon/lib/python3.12/site-packages/requests/api.py:59\u001b[39m, in \u001b[36mrequest\u001b[39m\u001b[34m(method, url, **kwargs)\u001b[39m\n\u001b[32m     55\u001b[39m \u001b[38;5;66;03m# By using the 'with' statement we are sure the session is closed, thus we\u001b[39;00m\n\u001b[32m     56\u001b[39m \u001b[38;5;66;03m# avoid leaving sockets open which can trigger a ResourceWarning in some\u001b[39;00m\n\u001b[32m     57\u001b[39m \u001b[38;5;66;03m# cases, and look like a memory leak in others.\u001b[39;00m\n\u001b[32m     58\u001b[39m \u001b[38;5;28;01mwith\u001b[39;00m sessions.Session() \u001b[38;5;28;01mas\u001b[39;00m session:\n\u001b[32m---> \u001b[39m\u001b[32m59\u001b[39m     \u001b[38;5;28;01mreturn\u001b[39;00m \u001b[43msession\u001b[49m\u001b[43m.\u001b[49m\u001b[43mrequest\u001b[49m\u001b[43m(\u001b[49m\u001b[43mmethod\u001b[49m\u001b[43m=\u001b[49m\u001b[43mmethod\u001b[49m\u001b[43m,\u001b[49m\u001b[43m \u001b[49m\u001b[43murl\u001b[49m\u001b[43m=\u001b[49m\u001b[43murl\u001b[49m\u001b[43m,\u001b[49m\u001b[43m \u001b[49m\u001b[43m*\u001b[49m\u001b[43m*\u001b[49m\u001b[43mkwargs\u001b[49m\u001b[43m)\u001b[49m\n",
      "\u001b[36mFile \u001b[39m\u001b[32m~/.pyenv/versions/3.12.9/envs/lewagon/lib/python3.12/site-packages/requests/sessions.py:589\u001b[39m, in \u001b[36mSession.request\u001b[39m\u001b[34m(self, method, url, params, data, headers, cookies, files, auth, timeout, allow_redirects, proxies, hooks, stream, verify, cert, json)\u001b[39m\n\u001b[32m    584\u001b[39m send_kwargs = {\n\u001b[32m    585\u001b[39m     \u001b[33m\"\u001b[39m\u001b[33mtimeout\u001b[39m\u001b[33m\"\u001b[39m: timeout,\n\u001b[32m    586\u001b[39m     \u001b[33m\"\u001b[39m\u001b[33mallow_redirects\u001b[39m\u001b[33m\"\u001b[39m: allow_redirects,\n\u001b[32m    587\u001b[39m }\n\u001b[32m    588\u001b[39m send_kwargs.update(settings)\n\u001b[32m--> \u001b[39m\u001b[32m589\u001b[39m resp = \u001b[38;5;28;43mself\u001b[39;49m\u001b[43m.\u001b[49m\u001b[43msend\u001b[49m\u001b[43m(\u001b[49m\u001b[43mprep\u001b[49m\u001b[43m,\u001b[49m\u001b[43m \u001b[49m\u001b[43m*\u001b[49m\u001b[43m*\u001b[49m\u001b[43msend_kwargs\u001b[49m\u001b[43m)\u001b[49m\n\u001b[32m    591\u001b[39m \u001b[38;5;28;01mreturn\u001b[39;00m resp\n",
      "\u001b[36mFile \u001b[39m\u001b[32m~/.pyenv/versions/3.12.9/envs/lewagon/lib/python3.12/site-packages/requests/sessions.py:703\u001b[39m, in \u001b[36mSession.send\u001b[39m\u001b[34m(self, request, **kwargs)\u001b[39m\n\u001b[32m    700\u001b[39m start = preferred_clock()\n\u001b[32m    702\u001b[39m \u001b[38;5;66;03m# Send the request\u001b[39;00m\n\u001b[32m--> \u001b[39m\u001b[32m703\u001b[39m r = \u001b[43madapter\u001b[49m\u001b[43m.\u001b[49m\u001b[43msend\u001b[49m\u001b[43m(\u001b[49m\u001b[43mrequest\u001b[49m\u001b[43m,\u001b[49m\u001b[43m \u001b[49m\u001b[43m*\u001b[49m\u001b[43m*\u001b[49m\u001b[43mkwargs\u001b[49m\u001b[43m)\u001b[49m\n\u001b[32m    705\u001b[39m \u001b[38;5;66;03m# Total elapsed time of the request (approximately)\u001b[39;00m\n\u001b[32m    706\u001b[39m elapsed = preferred_clock() - start\n",
      "\u001b[36mFile \u001b[39m\u001b[32m~/.pyenv/versions/3.12.9/envs/lewagon/lib/python3.12/site-packages/requests/adapters.py:667\u001b[39m, in \u001b[36mHTTPAdapter.send\u001b[39m\u001b[34m(self, request, stream, timeout, verify, cert, proxies)\u001b[39m\n\u001b[32m    664\u001b[39m     timeout = TimeoutSauce(connect=timeout, read=timeout)\n\u001b[32m    666\u001b[39m \u001b[38;5;28;01mtry\u001b[39;00m:\n\u001b[32m--> \u001b[39m\u001b[32m667\u001b[39m     resp = \u001b[43mconn\u001b[49m\u001b[43m.\u001b[49m\u001b[43murlopen\u001b[49m\u001b[43m(\u001b[49m\n\u001b[32m    668\u001b[39m \u001b[43m        \u001b[49m\u001b[43mmethod\u001b[49m\u001b[43m=\u001b[49m\u001b[43mrequest\u001b[49m\u001b[43m.\u001b[49m\u001b[43mmethod\u001b[49m\u001b[43m,\u001b[49m\n\u001b[32m    669\u001b[39m \u001b[43m        \u001b[49m\u001b[43murl\u001b[49m\u001b[43m=\u001b[49m\u001b[43murl\u001b[49m\u001b[43m,\u001b[49m\n\u001b[32m    670\u001b[39m \u001b[43m        \u001b[49m\u001b[43mbody\u001b[49m\u001b[43m=\u001b[49m\u001b[43mrequest\u001b[49m\u001b[43m.\u001b[49m\u001b[43mbody\u001b[49m\u001b[43m,\u001b[49m\n\u001b[32m    671\u001b[39m \u001b[43m        \u001b[49m\u001b[43mheaders\u001b[49m\u001b[43m=\u001b[49m\u001b[43mrequest\u001b[49m\u001b[43m.\u001b[49m\u001b[43mheaders\u001b[49m\u001b[43m,\u001b[49m\n\u001b[32m    672\u001b[39m \u001b[43m        \u001b[49m\u001b[43mredirect\u001b[49m\u001b[43m=\u001b[49m\u001b[38;5;28;43;01mFalse\u001b[39;49;00m\u001b[43m,\u001b[49m\n\u001b[32m    673\u001b[39m \u001b[43m        \u001b[49m\u001b[43massert_same_host\u001b[49m\u001b[43m=\u001b[49m\u001b[38;5;28;43;01mFalse\u001b[39;49;00m\u001b[43m,\u001b[49m\n\u001b[32m    674\u001b[39m \u001b[43m        \u001b[49m\u001b[43mpreload_content\u001b[49m\u001b[43m=\u001b[49m\u001b[38;5;28;43;01mFalse\u001b[39;49;00m\u001b[43m,\u001b[49m\n\u001b[32m    675\u001b[39m \u001b[43m        \u001b[49m\u001b[43mdecode_content\u001b[49m\u001b[43m=\u001b[49m\u001b[38;5;28;43;01mFalse\u001b[39;49;00m\u001b[43m,\u001b[49m\n\u001b[32m    676\u001b[39m \u001b[43m        \u001b[49m\u001b[43mretries\u001b[49m\u001b[43m=\u001b[49m\u001b[38;5;28;43mself\u001b[39;49m\u001b[43m.\u001b[49m\u001b[43mmax_retries\u001b[49m\u001b[43m,\u001b[49m\n\u001b[32m    677\u001b[39m \u001b[43m        \u001b[49m\u001b[43mtimeout\u001b[49m\u001b[43m=\u001b[49m\u001b[43mtimeout\u001b[49m\u001b[43m,\u001b[49m\n\u001b[32m    678\u001b[39m \u001b[43m        \u001b[49m\u001b[43mchunked\u001b[49m\u001b[43m=\u001b[49m\u001b[43mchunked\u001b[49m\u001b[43m,\u001b[49m\n\u001b[32m    679\u001b[39m \u001b[43m    \u001b[49m\u001b[43m)\u001b[49m\n\u001b[32m    681\u001b[39m \u001b[38;5;28;01mexcept\u001b[39;00m (ProtocolError, \u001b[38;5;167;01mOSError\u001b[39;00m) \u001b[38;5;28;01mas\u001b[39;00m err:\n\u001b[32m    682\u001b[39m     \u001b[38;5;28;01mraise\u001b[39;00m \u001b[38;5;167;01mConnectionError\u001b[39;00m(err, request=request)\n",
      "\u001b[36mFile \u001b[39m\u001b[32m~/.pyenv/versions/3.12.9/envs/lewagon/lib/python3.12/site-packages/urllib3/connectionpool.py:787\u001b[39m, in \u001b[36mHTTPConnectionPool.urlopen\u001b[39m\u001b[34m(self, method, url, body, headers, retries, redirect, assert_same_host, timeout, pool_timeout, release_conn, chunked, body_pos, preload_content, decode_content, **response_kw)\u001b[39m\n\u001b[32m    784\u001b[39m response_conn = conn \u001b[38;5;28;01mif\u001b[39;00m \u001b[38;5;129;01mnot\u001b[39;00m release_conn \u001b[38;5;28;01melse\u001b[39;00m \u001b[38;5;28;01mNone\u001b[39;00m\n\u001b[32m    786\u001b[39m \u001b[38;5;66;03m# Make the request on the HTTPConnection object\u001b[39;00m\n\u001b[32m--> \u001b[39m\u001b[32m787\u001b[39m response = \u001b[38;5;28;43mself\u001b[39;49m\u001b[43m.\u001b[49m\u001b[43m_make_request\u001b[49m\u001b[43m(\u001b[49m\n\u001b[32m    788\u001b[39m \u001b[43m    \u001b[49m\u001b[43mconn\u001b[49m\u001b[43m,\u001b[49m\n\u001b[32m    789\u001b[39m \u001b[43m    \u001b[49m\u001b[43mmethod\u001b[49m\u001b[43m,\u001b[49m\n\u001b[32m    790\u001b[39m \u001b[43m    \u001b[49m\u001b[43murl\u001b[49m\u001b[43m,\u001b[49m\n\u001b[32m    791\u001b[39m \u001b[43m    \u001b[49m\u001b[43mtimeout\u001b[49m\u001b[43m=\u001b[49m\u001b[43mtimeout_obj\u001b[49m\u001b[43m,\u001b[49m\n\u001b[32m    792\u001b[39m \u001b[43m    \u001b[49m\u001b[43mbody\u001b[49m\u001b[43m=\u001b[49m\u001b[43mbody\u001b[49m\u001b[43m,\u001b[49m\n\u001b[32m    793\u001b[39m \u001b[43m    \u001b[49m\u001b[43mheaders\u001b[49m\u001b[43m=\u001b[49m\u001b[43mheaders\u001b[49m\u001b[43m,\u001b[49m\n\u001b[32m    794\u001b[39m \u001b[43m    \u001b[49m\u001b[43mchunked\u001b[49m\u001b[43m=\u001b[49m\u001b[43mchunked\u001b[49m\u001b[43m,\u001b[49m\n\u001b[32m    795\u001b[39m \u001b[43m    \u001b[49m\u001b[43mretries\u001b[49m\u001b[43m=\u001b[49m\u001b[43mretries\u001b[49m\u001b[43m,\u001b[49m\n\u001b[32m    796\u001b[39m \u001b[43m    \u001b[49m\u001b[43mresponse_conn\u001b[49m\u001b[43m=\u001b[49m\u001b[43mresponse_conn\u001b[49m\u001b[43m,\u001b[49m\n\u001b[32m    797\u001b[39m \u001b[43m    \u001b[49m\u001b[43mpreload_content\u001b[49m\u001b[43m=\u001b[49m\u001b[43mpreload_content\u001b[49m\u001b[43m,\u001b[49m\n\u001b[32m    798\u001b[39m \u001b[43m    \u001b[49m\u001b[43mdecode_content\u001b[49m\u001b[43m=\u001b[49m\u001b[43mdecode_content\u001b[49m\u001b[43m,\u001b[49m\n\u001b[32m    799\u001b[39m \u001b[43m    \u001b[49m\u001b[43m*\u001b[49m\u001b[43m*\u001b[49m\u001b[43mresponse_kw\u001b[49m\u001b[43m,\u001b[49m\n\u001b[32m    800\u001b[39m \u001b[43m\u001b[49m\u001b[43m)\u001b[49m\n\u001b[32m    802\u001b[39m \u001b[38;5;66;03m# Everything went great!\u001b[39;00m\n\u001b[32m    803\u001b[39m clean_exit = \u001b[38;5;28;01mTrue\u001b[39;00m\n",
      "\u001b[36mFile \u001b[39m\u001b[32m~/.pyenv/versions/3.12.9/envs/lewagon/lib/python3.12/site-packages/urllib3/connectionpool.py:464\u001b[39m, in \u001b[36mHTTPConnectionPool._make_request\u001b[39m\u001b[34m(self, conn, method, url, body, headers, retries, timeout, chunked, response_conn, preload_content, decode_content, enforce_content_length)\u001b[39m\n\u001b[32m    461\u001b[39m \u001b[38;5;28;01mtry\u001b[39;00m:\n\u001b[32m    462\u001b[39m     \u001b[38;5;66;03m# Trigger any extra validation we need to do.\u001b[39;00m\n\u001b[32m    463\u001b[39m     \u001b[38;5;28;01mtry\u001b[39;00m:\n\u001b[32m--> \u001b[39m\u001b[32m464\u001b[39m         \u001b[38;5;28;43mself\u001b[39;49m\u001b[43m.\u001b[49m\u001b[43m_validate_conn\u001b[49m\u001b[43m(\u001b[49m\u001b[43mconn\u001b[49m\u001b[43m)\u001b[49m\n\u001b[32m    465\u001b[39m     \u001b[38;5;28;01mexcept\u001b[39;00m (SocketTimeout, BaseSSLError) \u001b[38;5;28;01mas\u001b[39;00m e:\n\u001b[32m    466\u001b[39m         \u001b[38;5;28mself\u001b[39m._raise_timeout(err=e, url=url, timeout_value=conn.timeout)\n",
      "\u001b[36mFile \u001b[39m\u001b[32m~/.pyenv/versions/3.12.9/envs/lewagon/lib/python3.12/site-packages/urllib3/connectionpool.py:1093\u001b[39m, in \u001b[36mHTTPSConnectionPool._validate_conn\u001b[39m\u001b[34m(self, conn)\u001b[39m\n\u001b[32m   1091\u001b[39m \u001b[38;5;66;03m# Force connect early to allow us to validate the connection.\u001b[39;00m\n\u001b[32m   1092\u001b[39m \u001b[38;5;28;01mif\u001b[39;00m conn.is_closed:\n\u001b[32m-> \u001b[39m\u001b[32m1093\u001b[39m     \u001b[43mconn\u001b[49m\u001b[43m.\u001b[49m\u001b[43mconnect\u001b[49m\u001b[43m(\u001b[49m\u001b[43m)\u001b[49m\n\u001b[32m   1095\u001b[39m \u001b[38;5;66;03m# TODO revise this, see https://github.com/urllib3/urllib3/issues/2791\u001b[39;00m\n\u001b[32m   1096\u001b[39m \u001b[38;5;28;01mif\u001b[39;00m \u001b[38;5;129;01mnot\u001b[39;00m conn.is_verified \u001b[38;5;129;01mand\u001b[39;00m \u001b[38;5;129;01mnot\u001b[39;00m conn.proxy_is_verified:\n",
      "\u001b[36mFile \u001b[39m\u001b[32m~/.pyenv/versions/3.12.9/envs/lewagon/lib/python3.12/site-packages/urllib3/connection.py:753\u001b[39m, in \u001b[36mHTTPSConnection.connect\u001b[39m\u001b[34m(self)\u001b[39m\n\u001b[32m    751\u001b[39m \u001b[38;5;28;01mtry\u001b[39;00m:\n\u001b[32m    752\u001b[39m     sock: socket.socket | ssl.SSLSocket\n\u001b[32m--> \u001b[39m\u001b[32m753\u001b[39m     \u001b[38;5;28mself\u001b[39m.sock = sock = \u001b[38;5;28;43mself\u001b[39;49m\u001b[43m.\u001b[49m\u001b[43m_new_conn\u001b[49m\u001b[43m(\u001b[49m\u001b[43m)\u001b[49m\n\u001b[32m    754\u001b[39m     server_hostname: \u001b[38;5;28mstr\u001b[39m = \u001b[38;5;28mself\u001b[39m.host\n\u001b[32m    755\u001b[39m     tls_in_tls = \u001b[38;5;28;01mFalse\u001b[39;00m\n",
      "\u001b[36mFile \u001b[39m\u001b[32m~/.pyenv/versions/3.12.9/envs/lewagon/lib/python3.12/site-packages/urllib3/connection.py:198\u001b[39m, in \u001b[36mHTTPConnection._new_conn\u001b[39m\u001b[34m(self)\u001b[39m\n\u001b[32m    193\u001b[39m \u001b[38;5;250m\u001b[39m\u001b[33;03m\"\"\"Establish a socket connection and set nodelay settings on it.\u001b[39;00m\n\u001b[32m    194\u001b[39m \n\u001b[32m    195\u001b[39m \u001b[33;03m:return: New socket connection.\u001b[39;00m\n\u001b[32m    196\u001b[39m \u001b[33;03m\"\"\"\u001b[39;00m\n\u001b[32m    197\u001b[39m \u001b[38;5;28;01mtry\u001b[39;00m:\n\u001b[32m--> \u001b[39m\u001b[32m198\u001b[39m     sock = \u001b[43mconnection\u001b[49m\u001b[43m.\u001b[49m\u001b[43mcreate_connection\u001b[49m\u001b[43m(\u001b[49m\n\u001b[32m    199\u001b[39m \u001b[43m        \u001b[49m\u001b[43m(\u001b[49m\u001b[38;5;28;43mself\u001b[39;49m\u001b[43m.\u001b[49m\u001b[43m_dns_host\u001b[49m\u001b[43m,\u001b[49m\u001b[43m \u001b[49m\u001b[38;5;28;43mself\u001b[39;49m\u001b[43m.\u001b[49m\u001b[43mport\u001b[49m\u001b[43m)\u001b[49m\u001b[43m,\u001b[49m\n\u001b[32m    200\u001b[39m \u001b[43m        \u001b[49m\u001b[38;5;28;43mself\u001b[39;49m\u001b[43m.\u001b[49m\u001b[43mtimeout\u001b[49m\u001b[43m,\u001b[49m\n\u001b[32m    201\u001b[39m \u001b[43m        \u001b[49m\u001b[43msource_address\u001b[49m\u001b[43m=\u001b[49m\u001b[38;5;28;43mself\u001b[39;49m\u001b[43m.\u001b[49m\u001b[43msource_address\u001b[49m\u001b[43m,\u001b[49m\n\u001b[32m    202\u001b[39m \u001b[43m        \u001b[49m\u001b[43msocket_options\u001b[49m\u001b[43m=\u001b[49m\u001b[38;5;28;43mself\u001b[39;49m\u001b[43m.\u001b[49m\u001b[43msocket_options\u001b[49m\u001b[43m,\u001b[49m\n\u001b[32m    203\u001b[39m \u001b[43m    \u001b[49m\u001b[43m)\u001b[49m\n\u001b[32m    204\u001b[39m \u001b[38;5;28;01mexcept\u001b[39;00m socket.gaierror \u001b[38;5;28;01mas\u001b[39;00m e:\n\u001b[32m    205\u001b[39m     \u001b[38;5;28;01mraise\u001b[39;00m NameResolutionError(\u001b[38;5;28mself\u001b[39m.host, \u001b[38;5;28mself\u001b[39m, e) \u001b[38;5;28;01mfrom\u001b[39;00m\u001b[38;5;250m \u001b[39m\u001b[34;01me\u001b[39;00m\n",
      "\u001b[36mFile \u001b[39m\u001b[32m~/.pyenv/versions/3.12.9/envs/lewagon/lib/python3.12/site-packages/urllib3/util/connection.py:73\u001b[39m, in \u001b[36mcreate_connection\u001b[39m\u001b[34m(address, timeout, source_address, socket_options)\u001b[39m\n\u001b[32m     71\u001b[39m \u001b[38;5;28;01mif\u001b[39;00m source_address:\n\u001b[32m     72\u001b[39m     sock.bind(source_address)\n\u001b[32m---> \u001b[39m\u001b[32m73\u001b[39m \u001b[43msock\u001b[49m\u001b[43m.\u001b[49m\u001b[43mconnect\u001b[49m\u001b[43m(\u001b[49m\u001b[43msa\u001b[49m\u001b[43m)\u001b[49m\n\u001b[32m     74\u001b[39m \u001b[38;5;66;03m# Break explicitly a reference cycle\u001b[39;00m\n\u001b[32m     75\u001b[39m err = \u001b[38;5;28;01mNone\u001b[39;00m\n",
      "\u001b[31mKeyboardInterrupt\u001b[39m: "
     ]
    }
   ],
   "source": [
    "import os\n",
    "import time\n",
    "import requests\n",
    "from tqdm import tqdm\n",
    "from urllib.parse import urlparse\n",
    "from google.cloud import storage\n",
    "\n",
    "# --- CONFIG ---\n",
    "DF = curated                      # your DataFrame\n",
    "URL_COL = \"photo_image_url\"       # the column in your DataFrame\n",
    "BUCKET_NAME = \"swipe-bucket\"\n",
    "REQUEST_TIMEOUT = 20\n",
    "RETRY_TIMES = 3\n",
    "SLEEP_BETWEEN = 0.2\n",
    "HEADERS = {\"User-Agent\": \"curated-downloader/1.0\"}\n",
    "#ROW_LIMIT = 1000\n",
    "# ---------------\n",
    "\n",
    "# Initialise GCS client\n",
    "storage_client = storage.Client.from_service_account_json(\n",
    "    \"/Users/benjaminluff/code/benluff303/swipe-sense/keys/swipe-space-470211-b6cdb6bfb18b.json\"\n",
    ")\n",
    "\n",
    "bucket = storage_client.bucket(BUCKET_NAME)\n",
    "\n",
    "def make_filename(url: str) -> str:\n",
    "    path = urlparse(url).path\n",
    "    base = os.path.basename(path).split(\"?\")[0] or \"image\"\n",
    "    stem, ext = os.path.splitext(base)\n",
    "    if not ext:\n",
    "        ext = \".jpg\"\n",
    "    return \"\".join(c for c in stem if c.isalnum() or c in \"-_.\") + ext\n",
    "\n",
    "def upload_to_gcs(blob_name: str, content: bytes) -> None:\n",
    "    blob = bucket.blob(blob_name)\n",
    "    blob.upload_from_string(content, content_type=\"image/jpeg\")\n",
    "\n",
    "def download_and_upload(url: str, blob_name: str) -> bool:\n",
    "    last_exc = None\n",
    "    for attempt in range(1, RETRY_TIMES + 1):\n",
    "        try:\n",
    "            with requests.get(url, headers=HEADERS, timeout=REQUEST_TIMEOUT, stream=True) as r:\n",
    "                if r.status_code == 200:\n",
    "                    upload_to_gcs(blob_name, r.content)\n",
    "                    return True\n",
    "                elif r.status_code in (429, 503):\n",
    "                    time.sleep(min(60, 2 ** attempt))  # backoff\n",
    "                else:\n",
    "                    last_exc = RuntimeError(f\"HTTP {r.status_code}\")\n",
    "        except Exception as e:\n",
    "            last_exc = e\n",
    "            time.sleep(2 ** attempt * 0.5)\n",
    "    print(f\"FAILED: {url} -> gs://{BUCKET_NAME}/{blob_name} ({last_exc})\")\n",
    "    return False\n",
    "\n",
    "# --- MAIN LOOP ---\n",
    "for url in tqdm(DF[URL_COL].head(ROW_LIMIT), desc=\"Uploading to GCS\"):\n",
    "    blob_name = make_filename(url)\n",
    "    download_and_upload(url, blob_name)\n",
    "    time.sleep(SLEEP_BETWEEN)\n"
   ]
  },
  {
   "cell_type": "code",
   "execution_count": null,
   "id": "a250753b",
   "metadata": {},
   "outputs": [
    {
     "name": "stdout",
     "output_type": "stream",
     "text": [
      "✅ Upload worked: https://storage.googleapis.com/swipe-bucket/hello.txt\n"
     ]
    }
   ],
   "source": [
    "from google.cloud import storage\n",
    "\n",
    "client = storage.Client.from_service_account_json(\n",
    "    \"/Users/benjaminluff/code/benluff303/swipe-sense/keys/swipe-space-470211-b6cdb6bfb18b.json\"\n",
    ")\n",
    "\n",
    "bucket = client.bucket(\"swipe-bucket\")\n",
    "blob = bucket.blob(\"hello.txt\")\n",
    "blob.upload_from_string(\"Hello from Ben!\")\n",
    "\n",
    "print(\"✅ Upload worked:\", blob.public_url)"
   ]
  },
  {
   "cell_type": "code",
   "execution_count": null,
   "id": "e7a32711",
   "metadata": {},
   "outputs": [
    {
     "data": {
      "text/plain": [
       "20902"
      ]
     },
     "execution_count": 39,
     "metadata": {},
     "output_type": "execute_result"
    }
   ],
   "source": [
    "len(curated)"
   ]
  },
  {
   "cell_type": "code",
   "execution_count": null,
   "id": "73384a75",
   "metadata": {},
   "outputs": [
    {
     "name": "stderr",
     "output_type": "stream",
     "text": [
      "Uploading to GCS:   0%|          | 0/20902 [00:00<?, ?it/s]"
     ]
    },
    {
     "name": "stderr",
     "output_type": "stream",
     "text": [
      "Uploading to GCS:   5%|▌         | 1147/20902 [07:35<2:09:26,  2.54it/s]"
     ]
    },
    {
     "name": "stdout",
     "output_type": "stream",
     "text": [
      "FAILED: https://images.unsplash.com/photo-1589449633813-6b4d11dcb853 -> gs://swipe-bucket/photo-1589449633813-6b4d11dcb853.jpg (HTTP 404)\n"
     ]
    },
    {
     "name": "stderr",
     "output_type": "stream",
     "text": [
      "Uploading to GCS:   6%|▌         | 1282/20902 [08:32<2:10:42,  2.50it/s]\n"
     ]
    },
    {
     "ename": "KeyboardInterrupt",
     "evalue": "",
     "output_type": "error",
     "traceback": [
      "\u001b[31m---------------------------------------------------------------------------\u001b[39m",
      "\u001b[31mLocationParseError\u001b[39m                        Traceback (most recent call last)",
      "\u001b[36mCell\u001b[39m\u001b[36m \u001b[39m\u001b[32mIn[42]\u001b[39m\u001b[32m, line 52\u001b[39m, in \u001b[36mdownload_and_upload\u001b[39m\u001b[34m(url, blob_name)\u001b[39m\n\u001b[32m     51\u001b[39m \u001b[38;5;28;01mtry\u001b[39;00m:\n\u001b[32m---> \u001b[39m\u001b[32m52\u001b[39m     \u001b[38;5;28;01mwith\u001b[39;00m \u001b[43mrequests\u001b[49m\u001b[43m.\u001b[49m\u001b[43mget\u001b[49m\u001b[43m(\u001b[49m\u001b[43murl\u001b[49m\u001b[43m,\u001b[49m\u001b[43m \u001b[49m\u001b[43mheaders\u001b[49m\u001b[43m=\u001b[49m\u001b[43mHEADERS\u001b[49m\u001b[43m,\u001b[49m\u001b[43m \u001b[49m\u001b[43mtimeout\u001b[49m\u001b[43m=\u001b[49m\u001b[43mREQUEST_TIMEOUT\u001b[49m\u001b[43m,\u001b[49m\u001b[43m \u001b[49m\u001b[43mstream\u001b[49m\u001b[43m=\u001b[49m\u001b[38;5;28;43;01mTrue\u001b[39;49;00m\u001b[43m)\u001b[49m \u001b[38;5;28;01mas\u001b[39;00m r:\n\u001b[32m     53\u001b[39m         \u001b[38;5;28;01mif\u001b[39;00m r.status_code == \u001b[32m200\u001b[39m:\n",
      "\u001b[36mFile \u001b[39m\u001b[32m~/.pyenv/versions/3.12.9/envs/lewagon/lib/python3.12/site-packages/requests/api.py:73\u001b[39m, in \u001b[36mget\u001b[39m\u001b[34m(url, params, **kwargs)\u001b[39m\n\u001b[32m     63\u001b[39m \u001b[38;5;250m\u001b[39m\u001b[33mr\u001b[39m\u001b[33;03m\"\"\"Sends a GET request.\u001b[39;00m\n\u001b[32m     64\u001b[39m \n\u001b[32m     65\u001b[39m \u001b[33;03m:param url: URL for the new :class:`Request` object.\u001b[39;00m\n\u001b[32m   (...)\u001b[39m\u001b[32m     70\u001b[39m \u001b[33;03m:rtype: requests.Response\u001b[39;00m\n\u001b[32m     71\u001b[39m \u001b[33;03m\"\"\"\u001b[39;00m\n\u001b[32m---> \u001b[39m\u001b[32m73\u001b[39m \u001b[38;5;28;01mreturn\u001b[39;00m \u001b[43mrequest\u001b[49m\u001b[43m(\u001b[49m\u001b[33;43m\"\u001b[39;49m\u001b[33;43mget\u001b[39;49m\u001b[33;43m\"\u001b[39;49m\u001b[43m,\u001b[49m\u001b[43m \u001b[49m\u001b[43murl\u001b[49m\u001b[43m,\u001b[49m\u001b[43m \u001b[49m\u001b[43mparams\u001b[49m\u001b[43m=\u001b[49m\u001b[43mparams\u001b[49m\u001b[43m,\u001b[49m\u001b[43m \u001b[49m\u001b[43m*\u001b[49m\u001b[43m*\u001b[49m\u001b[43mkwargs\u001b[49m\u001b[43m)\u001b[49m\n",
      "\u001b[36mFile \u001b[39m\u001b[32m~/.pyenv/versions/3.12.9/envs/lewagon/lib/python3.12/site-packages/requests/api.py:59\u001b[39m, in \u001b[36mrequest\u001b[39m\u001b[34m(method, url, **kwargs)\u001b[39m\n\u001b[32m     58\u001b[39m \u001b[38;5;28;01mwith\u001b[39;00m sessions.Session() \u001b[38;5;28;01mas\u001b[39;00m session:\n\u001b[32m---> \u001b[39m\u001b[32m59\u001b[39m     \u001b[38;5;28;01mreturn\u001b[39;00m \u001b[43msession\u001b[49m\u001b[43m.\u001b[49m\u001b[43mrequest\u001b[49m\u001b[43m(\u001b[49m\u001b[43mmethod\u001b[49m\u001b[43m=\u001b[49m\u001b[43mmethod\u001b[49m\u001b[43m,\u001b[49m\u001b[43m \u001b[49m\u001b[43murl\u001b[49m\u001b[43m=\u001b[49m\u001b[43murl\u001b[49m\u001b[43m,\u001b[49m\u001b[43m \u001b[49m\u001b[43m*\u001b[49m\u001b[43m*\u001b[49m\u001b[43mkwargs\u001b[49m\u001b[43m)\u001b[49m\n",
      "\u001b[36mFile \u001b[39m\u001b[32m~/.pyenv/versions/3.12.9/envs/lewagon/lib/python3.12/site-packages/requests/sessions.py:589\u001b[39m, in \u001b[36mSession.request\u001b[39m\u001b[34m(self, method, url, params, data, headers, cookies, files, auth, timeout, allow_redirects, proxies, hooks, stream, verify, cert, json)\u001b[39m\n\u001b[32m    588\u001b[39m send_kwargs.update(settings)\n\u001b[32m--> \u001b[39m\u001b[32m589\u001b[39m resp = \u001b[38;5;28;43mself\u001b[39;49m\u001b[43m.\u001b[49m\u001b[43msend\u001b[49m\u001b[43m(\u001b[49m\u001b[43mprep\u001b[49m\u001b[43m,\u001b[49m\u001b[43m \u001b[49m\u001b[43m*\u001b[49m\u001b[43m*\u001b[49m\u001b[43msend_kwargs\u001b[49m\u001b[43m)\u001b[49m\n\u001b[32m    591\u001b[39m \u001b[38;5;28;01mreturn\u001b[39;00m resp\n",
      "\u001b[36mFile \u001b[39m\u001b[32m~/.pyenv/versions/3.12.9/envs/lewagon/lib/python3.12/site-packages/requests/sessions.py:703\u001b[39m, in \u001b[36mSession.send\u001b[39m\u001b[34m(self, request, **kwargs)\u001b[39m\n\u001b[32m    702\u001b[39m \u001b[38;5;66;03m# Send the request\u001b[39;00m\n\u001b[32m--> \u001b[39m\u001b[32m703\u001b[39m r = \u001b[43madapter\u001b[49m\u001b[43m.\u001b[49m\u001b[43msend\u001b[49m\u001b[43m(\u001b[49m\u001b[43mrequest\u001b[49m\u001b[43m,\u001b[49m\u001b[43m \u001b[49m\u001b[43m*\u001b[49m\u001b[43m*\u001b[49m\u001b[43mkwargs\u001b[49m\u001b[43m)\u001b[49m\n\u001b[32m    705\u001b[39m \u001b[38;5;66;03m# Total elapsed time of the request (approximately)\u001b[39;00m\n",
      "\u001b[36mFile \u001b[39m\u001b[32m~/.pyenv/versions/3.12.9/envs/lewagon/lib/python3.12/site-packages/requests/adapters.py:667\u001b[39m, in \u001b[36mHTTPAdapter.send\u001b[39m\u001b[34m(self, request, stream, timeout, verify, cert, proxies)\u001b[39m\n\u001b[32m    666\u001b[39m \u001b[38;5;28;01mtry\u001b[39;00m:\n\u001b[32m--> \u001b[39m\u001b[32m667\u001b[39m     resp = \u001b[43mconn\u001b[49m\u001b[43m.\u001b[49m\u001b[43murlopen\u001b[49m\u001b[43m(\u001b[49m\n\u001b[32m    668\u001b[39m \u001b[43m        \u001b[49m\u001b[43mmethod\u001b[49m\u001b[43m=\u001b[49m\u001b[43mrequest\u001b[49m\u001b[43m.\u001b[49m\u001b[43mmethod\u001b[49m\u001b[43m,\u001b[49m\n\u001b[32m    669\u001b[39m \u001b[43m        \u001b[49m\u001b[43murl\u001b[49m\u001b[43m=\u001b[49m\u001b[43murl\u001b[49m\u001b[43m,\u001b[49m\n\u001b[32m    670\u001b[39m \u001b[43m        \u001b[49m\u001b[43mbody\u001b[49m\u001b[43m=\u001b[49m\u001b[43mrequest\u001b[49m\u001b[43m.\u001b[49m\u001b[43mbody\u001b[49m\u001b[43m,\u001b[49m\n\u001b[32m    671\u001b[39m \u001b[43m        \u001b[49m\u001b[43mheaders\u001b[49m\u001b[43m=\u001b[49m\u001b[43mrequest\u001b[49m\u001b[43m.\u001b[49m\u001b[43mheaders\u001b[49m\u001b[43m,\u001b[49m\n\u001b[32m    672\u001b[39m \u001b[43m        \u001b[49m\u001b[43mredirect\u001b[49m\u001b[43m=\u001b[49m\u001b[38;5;28;43;01mFalse\u001b[39;49;00m\u001b[43m,\u001b[49m\n\u001b[32m    673\u001b[39m \u001b[43m        \u001b[49m\u001b[43massert_same_host\u001b[49m\u001b[43m=\u001b[49m\u001b[38;5;28;43;01mFalse\u001b[39;49;00m\u001b[43m,\u001b[49m\n\u001b[32m    674\u001b[39m \u001b[43m        \u001b[49m\u001b[43mpreload_content\u001b[49m\u001b[43m=\u001b[49m\u001b[38;5;28;43;01mFalse\u001b[39;49;00m\u001b[43m,\u001b[49m\n\u001b[32m    675\u001b[39m \u001b[43m        \u001b[49m\u001b[43mdecode_content\u001b[49m\u001b[43m=\u001b[49m\u001b[38;5;28;43;01mFalse\u001b[39;49;00m\u001b[43m,\u001b[49m\n\u001b[32m    676\u001b[39m \u001b[43m        \u001b[49m\u001b[43mretries\u001b[49m\u001b[43m=\u001b[49m\u001b[38;5;28;43mself\u001b[39;49m\u001b[43m.\u001b[49m\u001b[43mmax_retries\u001b[49m\u001b[43m,\u001b[49m\n\u001b[32m    677\u001b[39m \u001b[43m        \u001b[49m\u001b[43mtimeout\u001b[49m\u001b[43m=\u001b[49m\u001b[43mtimeout\u001b[49m\u001b[43m,\u001b[49m\n\u001b[32m    678\u001b[39m \u001b[43m        \u001b[49m\u001b[43mchunked\u001b[49m\u001b[43m=\u001b[49m\u001b[43mchunked\u001b[49m\u001b[43m,\u001b[49m\n\u001b[32m    679\u001b[39m \u001b[43m    \u001b[49m\u001b[43m)\u001b[49m\n\u001b[32m    681\u001b[39m \u001b[38;5;28;01mexcept\u001b[39;00m (ProtocolError, \u001b[38;5;167;01mOSError\u001b[39;00m) \u001b[38;5;28;01mas\u001b[39;00m err:\n",
      "\u001b[36mFile \u001b[39m\u001b[32m~/.pyenv/versions/3.12.9/envs/lewagon/lib/python3.12/site-packages/urllib3/connectionpool.py:787\u001b[39m, in \u001b[36mHTTPConnectionPool.urlopen\u001b[39m\u001b[34m(self, method, url, body, headers, retries, redirect, assert_same_host, timeout, pool_timeout, release_conn, chunked, body_pos, preload_content, decode_content, **response_kw)\u001b[39m\n\u001b[32m    786\u001b[39m \u001b[38;5;66;03m# Make the request on the HTTPConnection object\u001b[39;00m\n\u001b[32m--> \u001b[39m\u001b[32m787\u001b[39m response = \u001b[38;5;28;43mself\u001b[39;49m\u001b[43m.\u001b[49m\u001b[43m_make_request\u001b[49m\u001b[43m(\u001b[49m\n\u001b[32m    788\u001b[39m \u001b[43m    \u001b[49m\u001b[43mconn\u001b[49m\u001b[43m,\u001b[49m\n\u001b[32m    789\u001b[39m \u001b[43m    \u001b[49m\u001b[43mmethod\u001b[49m\u001b[43m,\u001b[49m\n\u001b[32m    790\u001b[39m \u001b[43m    \u001b[49m\u001b[43murl\u001b[49m\u001b[43m,\u001b[49m\n\u001b[32m    791\u001b[39m \u001b[43m    \u001b[49m\u001b[43mtimeout\u001b[49m\u001b[43m=\u001b[49m\u001b[43mtimeout_obj\u001b[49m\u001b[43m,\u001b[49m\n\u001b[32m    792\u001b[39m \u001b[43m    \u001b[49m\u001b[43mbody\u001b[49m\u001b[43m=\u001b[49m\u001b[43mbody\u001b[49m\u001b[43m,\u001b[49m\n\u001b[32m    793\u001b[39m \u001b[43m    \u001b[49m\u001b[43mheaders\u001b[49m\u001b[43m=\u001b[49m\u001b[43mheaders\u001b[49m\u001b[43m,\u001b[49m\n\u001b[32m    794\u001b[39m \u001b[43m    \u001b[49m\u001b[43mchunked\u001b[49m\u001b[43m=\u001b[49m\u001b[43mchunked\u001b[49m\u001b[43m,\u001b[49m\n\u001b[32m    795\u001b[39m \u001b[43m    \u001b[49m\u001b[43mretries\u001b[49m\u001b[43m=\u001b[49m\u001b[43mretries\u001b[49m\u001b[43m,\u001b[49m\n\u001b[32m    796\u001b[39m \u001b[43m    \u001b[49m\u001b[43mresponse_conn\u001b[49m\u001b[43m=\u001b[49m\u001b[43mresponse_conn\u001b[49m\u001b[43m,\u001b[49m\n\u001b[32m    797\u001b[39m \u001b[43m    \u001b[49m\u001b[43mpreload_content\u001b[49m\u001b[43m=\u001b[49m\u001b[43mpreload_content\u001b[49m\u001b[43m,\u001b[49m\n\u001b[32m    798\u001b[39m \u001b[43m    \u001b[49m\u001b[43mdecode_content\u001b[49m\u001b[43m=\u001b[49m\u001b[43mdecode_content\u001b[49m\u001b[43m,\u001b[49m\n\u001b[32m    799\u001b[39m \u001b[43m    \u001b[49m\u001b[43m*\u001b[49m\u001b[43m*\u001b[49m\u001b[43mresponse_kw\u001b[49m\u001b[43m,\u001b[49m\n\u001b[32m    800\u001b[39m \u001b[43m\u001b[49m\u001b[43m)\u001b[49m\n\u001b[32m    802\u001b[39m \u001b[38;5;66;03m# Everything went great!\u001b[39;00m\n",
      "\u001b[36mFile \u001b[39m\u001b[32m~/.pyenv/versions/3.12.9/envs/lewagon/lib/python3.12/site-packages/urllib3/connectionpool.py:464\u001b[39m, in \u001b[36mHTTPConnectionPool._make_request\u001b[39m\u001b[34m(self, conn, method, url, body, headers, retries, timeout, chunked, response_conn, preload_content, decode_content, enforce_content_length)\u001b[39m\n\u001b[32m    463\u001b[39m \u001b[38;5;28;01mtry\u001b[39;00m:\n\u001b[32m--> \u001b[39m\u001b[32m464\u001b[39m     \u001b[38;5;28;43mself\u001b[39;49m\u001b[43m.\u001b[49m\u001b[43m_validate_conn\u001b[49m\u001b[43m(\u001b[49m\u001b[43mconn\u001b[49m\u001b[43m)\u001b[49m\n\u001b[32m    465\u001b[39m \u001b[38;5;28;01mexcept\u001b[39;00m (SocketTimeout, BaseSSLError) \u001b[38;5;28;01mas\u001b[39;00m e:\n",
      "\u001b[36mFile \u001b[39m\u001b[32m~/.pyenv/versions/3.12.9/envs/lewagon/lib/python3.12/site-packages/urllib3/connectionpool.py:1093\u001b[39m, in \u001b[36mHTTPSConnectionPool._validate_conn\u001b[39m\u001b[34m(self, conn)\u001b[39m\n\u001b[32m   1092\u001b[39m \u001b[38;5;28;01mif\u001b[39;00m conn.is_closed:\n\u001b[32m-> \u001b[39m\u001b[32m1093\u001b[39m     \u001b[43mconn\u001b[49m\u001b[43m.\u001b[49m\u001b[43mconnect\u001b[49m\u001b[43m(\u001b[49m\u001b[43m)\u001b[49m\n\u001b[32m   1095\u001b[39m \u001b[38;5;66;03m# TODO revise this, see https://github.com/urllib3/urllib3/issues/2791\u001b[39;00m\n",
      "\u001b[36mFile \u001b[39m\u001b[32m~/.pyenv/versions/3.12.9/envs/lewagon/lib/python3.12/site-packages/urllib3/connection.py:753\u001b[39m, in \u001b[36mHTTPSConnection.connect\u001b[39m\u001b[34m(self)\u001b[39m\n\u001b[32m    752\u001b[39m sock: socket.socket | ssl.SSLSocket\n\u001b[32m--> \u001b[39m\u001b[32m753\u001b[39m \u001b[38;5;28mself\u001b[39m.sock = sock = \u001b[38;5;28;43mself\u001b[39;49m\u001b[43m.\u001b[49m\u001b[43m_new_conn\u001b[49m\u001b[43m(\u001b[49m\u001b[43m)\u001b[49m\n\u001b[32m    754\u001b[39m server_hostname: \u001b[38;5;28mstr\u001b[39m = \u001b[38;5;28mself\u001b[39m.host\n",
      "\u001b[36mFile \u001b[39m\u001b[32m~/.pyenv/versions/3.12.9/envs/lewagon/lib/python3.12/site-packages/urllib3/connection.py:198\u001b[39m, in \u001b[36mHTTPConnection._new_conn\u001b[39m\u001b[34m(self)\u001b[39m\n\u001b[32m    197\u001b[39m \u001b[38;5;28;01mtry\u001b[39;00m:\n\u001b[32m--> \u001b[39m\u001b[32m198\u001b[39m     sock = \u001b[43mconnection\u001b[49m\u001b[43m.\u001b[49m\u001b[43mcreate_connection\u001b[49m\u001b[43m(\u001b[49m\n\u001b[32m    199\u001b[39m \u001b[43m        \u001b[49m\u001b[43m(\u001b[49m\u001b[38;5;28;43mself\u001b[39;49m\u001b[43m.\u001b[49m\u001b[43m_dns_host\u001b[49m\u001b[43m,\u001b[49m\u001b[43m \u001b[49m\u001b[38;5;28;43mself\u001b[39;49m\u001b[43m.\u001b[49m\u001b[43mport\u001b[49m\u001b[43m)\u001b[49m\u001b[43m,\u001b[49m\n\u001b[32m    200\u001b[39m \u001b[43m        \u001b[49m\u001b[38;5;28;43mself\u001b[39;49m\u001b[43m.\u001b[49m\u001b[43mtimeout\u001b[49m\u001b[43m,\u001b[49m\n\u001b[32m    201\u001b[39m \u001b[43m        \u001b[49m\u001b[43msource_address\u001b[49m\u001b[43m=\u001b[49m\u001b[38;5;28;43mself\u001b[39;49m\u001b[43m.\u001b[49m\u001b[43msource_address\u001b[49m\u001b[43m,\u001b[49m\n\u001b[32m    202\u001b[39m \u001b[43m        \u001b[49m\u001b[43msocket_options\u001b[49m\u001b[43m=\u001b[49m\u001b[38;5;28;43mself\u001b[39;49m\u001b[43m.\u001b[49m\u001b[43msocket_options\u001b[49m\u001b[43m,\u001b[49m\n\u001b[32m    203\u001b[39m \u001b[43m    \u001b[49m\u001b[43m)\u001b[49m\n\u001b[32m    204\u001b[39m \u001b[38;5;28;01mexcept\u001b[39;00m socket.gaierror \u001b[38;5;28;01mas\u001b[39;00m e:\n",
      "\u001b[36mFile \u001b[39m\u001b[32m~/.pyenv/versions/3.12.9/envs/lewagon/lib/python3.12/site-packages/urllib3/util/connection.py:58\u001b[39m, in \u001b[36mcreate_connection\u001b[39m\u001b[34m(address, timeout, source_address, socket_options)\u001b[39m\n\u001b[32m     57\u001b[39m \u001b[38;5;28;01mexcept\u001b[39;00m \u001b[38;5;167;01mUnicodeError\u001b[39;00m:\n\u001b[32m---> \u001b[39m\u001b[32m58\u001b[39m     \u001b[38;5;28;01mraise\u001b[39;00m LocationParseError(\u001b[33mf\u001b[39m\u001b[33m\"\u001b[39m\u001b[33m'\u001b[39m\u001b[38;5;132;01m{\u001b[39;00mhost\u001b[38;5;132;01m}\u001b[39;00m\u001b[33m'\u001b[39m\u001b[33m, label empty or too long\u001b[39m\u001b[33m\"\u001b[39m) \u001b[38;5;28;01mfrom\u001b[39;00m\u001b[38;5;250m \u001b[39m\u001b[38;5;28;01mNone\u001b[39;00m\n\u001b[32m     60\u001b[39m \u001b[38;5;28;01mfor\u001b[39;00m res \u001b[38;5;129;01min\u001b[39;00m socket.getaddrinfo(host, port, family, socket.SOCK_STREAM):\n",
      "\u001b[31mLocationParseError\u001b[39m: Failed to parse: 'images.unsplash.company%20by%20alessandro%20desantis%20-%20downloaded%20from%20500px_jpg.jpg', label empty or too long",
      "\nDuring handling of the above exception, another exception occurred:\n",
      "\u001b[31mKeyboardInterrupt\u001b[39m                         Traceback (most recent call last)",
      "\u001b[36mCell\u001b[39m\u001b[36m \u001b[39m\u001b[32mIn[42]\u001b[39m\u001b[32m, line 71\u001b[39m\n\u001b[32m     69\u001b[39m \u001b[38;5;28;01mfor\u001b[39;00m url \u001b[38;5;129;01min\u001b[39;00m tqdm(DF[URL_COL], desc=\u001b[33m\"\u001b[39m\u001b[33mUploading to GCS\u001b[39m\u001b[33m\"\u001b[39m, total=\u001b[38;5;28mlen\u001b[39m(DF)):\n\u001b[32m     70\u001b[39m     blob_name = make_filename(url)\n\u001b[32m---> \u001b[39m\u001b[32m71\u001b[39m     \u001b[43mdownload_and_upload\u001b[49m\u001b[43m(\u001b[49m\u001b[43murl\u001b[49m\u001b[43m,\u001b[49m\u001b[43m \u001b[49m\u001b[43mblob_name\u001b[49m\u001b[43m)\u001b[49m\n\u001b[32m     72\u001b[39m     time.sleep(SLEEP_BETWEEN)\n\u001b[32m     74\u001b[39m \u001b[38;5;66;03m# --- SAVE FAILURES ---\u001b[39;00m\n",
      "\u001b[36mCell\u001b[39m\u001b[36m \u001b[39m\u001b[32mIn[42]\u001b[39m\u001b[32m, line 62\u001b[39m, in \u001b[36mdownload_and_upload\u001b[39m\u001b[34m(url, blob_name)\u001b[39m\n\u001b[32m     60\u001b[39m     \u001b[38;5;28;01mexcept\u001b[39;00m \u001b[38;5;167;01mException\u001b[39;00m \u001b[38;5;28;01mas\u001b[39;00m e:\n\u001b[32m     61\u001b[39m         last_exc = e\n\u001b[32m---> \u001b[39m\u001b[32m62\u001b[39m         \u001b[43mtime\u001b[49m\u001b[43m.\u001b[49m\u001b[43msleep\u001b[49m\u001b[43m(\u001b[49m\u001b[32;43m2\u001b[39;49m\u001b[43m \u001b[49m\u001b[43m*\u001b[49m\u001b[43m*\u001b[49m\u001b[43m \u001b[49m\u001b[43mattempt\u001b[49m\u001b[43m \u001b[49m\u001b[43m*\u001b[49m\u001b[43m \u001b[49m\u001b[32;43m0.5\u001b[39;49m\u001b[43m)\u001b[49m\n\u001b[32m     63\u001b[39m \u001b[38;5;66;03m# Record failure\u001b[39;00m\n\u001b[32m     64\u001b[39m \u001b[38;5;28mprint\u001b[39m(\u001b[33mf\u001b[39m\u001b[33m\"\u001b[39m\u001b[33mFAILED: \u001b[39m\u001b[38;5;132;01m{\u001b[39;00murl\u001b[38;5;132;01m}\u001b[39;00m\u001b[33m -> gs://\u001b[39m\u001b[38;5;132;01m{\u001b[39;00mBUCKET_NAME\u001b[38;5;132;01m}\u001b[39;00m\u001b[33m/\u001b[39m\u001b[38;5;132;01m{\u001b[39;00mblob_name\u001b[38;5;132;01m}\u001b[39;00m\u001b[33m (\u001b[39m\u001b[38;5;132;01m{\u001b[39;00mlast_exc\u001b[38;5;132;01m}\u001b[39;00m\u001b[33m)\u001b[39m\u001b[33m\"\u001b[39m)\n",
      "\u001b[31mKeyboardInterrupt\u001b[39m: "
     ]
    }
   ],
   "source": [
    "import os\n",
    "import time\n",
    "import requests\n",
    "import pandas as pd\n",
    "from tqdm import tqdm\n",
    "from urllib.parse import urlparse\n",
    "from google.cloud import storage\n",
    "\n",
    "# --- CONFIG ---\n",
    "DF = curated                      # your DataFrame (~20,902 rows)\n",
    "URL_COL = \"photo_image_url\"       # column with image URLs\n",
    "BUCKET_NAME = \"swipe-bucket\"\n",
    "REQUEST_TIMEOUT = 20\n",
    "RETRY_TIMES = 3\n",
    "SLEEP_BETWEEN = 0.2               # delay between requests\n",
    "HEADERS = {\"User-Agent\": \"curated-downloader/1.0\"}\n",
    "FAILED_LOG = \"failed_uploads.csv\"\n",
    "# ---------------\n",
    "\n",
    "# Initialise GCS client with explicit service account key\n",
    "storage_client = storage.Client.from_service_account_json(\n",
    "    \"/Users/benjaminluff/code/benluff303/swipe-sense/keys/swipe-space-470211-b6cdb6bfb18b.json\"\n",
    ")\n",
    "bucket = storage_client.bucket(BUCKET_NAME)\n",
    "\n",
    "# Keep a list of failures to save later\n",
    "failed = []\n",
    "\n",
    "def make_filename(url: str) -> str:\n",
    "    \"\"\"Create a safe filename from the image URL\"\"\"\n",
    "    path = urlparse(url).path\n",
    "    base = os.path.basename(path).split(\"?\")[0] or \"image\"\n",
    "    stem, ext = os.path.splitext(base)\n",
    "    if not ext:\n",
    "        ext = \".jpg\"\n",
    "    return \"\".join(c for c in stem if c.isalnum() or c in \"-_.\") + ext\n",
    "\n",
    "def upload_to_gcs(blob_name: str, content: bytes) -> None:\n",
    "    \"\"\"Upload a file to GCS\"\"\"\n",
    "    blob = bucket.blob(blob_name)\n",
    "    blob.upload_from_string(content, content_type=\"image/jpeg\")\n",
    "\n",
    "def download_and_upload(url: str, blob_name: str) -> bool:\n",
    "    \"\"\"Download an image from URL and upload to GCS (resumable)\"\"\"\n",
    "    blob = bucket.blob(blob_name)\n",
    "    if blob.exists():   # 🔑 Skip if already uploaded\n",
    "        return False\n",
    "\n",
    "    last_exc = None\n",
    "    for attempt in range(1, RETRY_TIMES + 1):\n",
    "        try:\n",
    "            with requests.get(url, headers=HEADERS, timeout=REQUEST_TIMEOUT, stream=True) as r:\n",
    "                if r.status_code == 200:\n",
    "                    upload_to_gcs(blob_name, r.content)\n",
    "                    return True\n",
    "                elif r.status_code in (429, 503):\n",
    "                    time.sleep(min(60, 2 ** attempt))  # backoff\n",
    "                else:\n",
    "                    last_exc = RuntimeError(f\"HTTP {r.status_code}\")\n",
    "        except Exception as e:\n",
    "            last_exc = e\n",
    "            time.sleep(2 ** attempt * 0.5)\n",
    "    # Record failure\n",
    "    print(f\"FAILED: {url} -> gs://{BUCKET_NAME}/{blob_name} ({last_exc})\")\n",
    "    failed.append({\"url\": url, \"blob\": blob_name, \"error\": str(last_exc)})\n",
    "    return False\n",
    "\n",
    "# --- MAIN LOOP ---\n",
    "for url in tqdm(DF[URL_COL], desc=\"Uploading to GCS\", total=len(DF)):\n",
    "    blob_name = make_filename(url)\n",
    "    download_and_upload(url, blob_name)\n",
    "    time.sleep(SLEEP_BETWEEN)\n",
    "\n",
    "# --- SAVE FAILURES ---\n",
    "if failed:\n",
    "    pd.DataFrame(failed).to_csv(FAILED_LOG, index=False)\n",
    "    print(f\"\\n⚠️ {len(failed)} uploads failed. See {FAILED_LOG} for details.\")\n",
    "else:\n",
    "    print(\"\\n✅ All uploads completed successfully!\")\n"
   ]
  },
  {
   "cell_type": "code",
   "execution_count": null,
   "id": "fd99e1fd",
   "metadata": {},
   "outputs": [],
   "source": []
  }
 ],
 "metadata": {
  "kernelspec": {
   "display_name": "lewagon",
   "language": "python",
   "name": "python3"
  },
  "language_info": {
   "codemirror_mode": {
    "name": "ipython",
    "version": 3
   },
   "file_extension": ".py",
   "mimetype": "text/x-python",
   "name": "python",
   "nbconvert_exporter": "python",
   "pygments_lexer": "ipython3",
   "version": "3.12.9"
  }
 },
 "nbformat": 4,
 "nbformat_minor": 5
}
