{
 "cells": [
  {
   "cell_type": "code",
   "execution_count": 16,
   "id": "f6b58ae1",
   "metadata": {},
   "outputs": [],
   "source": [
    "# Turn them into embeddings (vectors).\n",
    "\n",
    "\n",
    "from PIL import Image\n",
    "import torch\n",
    "from transformers import CLIPProcessor, CLIPModel\n",
    "import os\n",
    "import numpy as np\n",
    "\n",
    "# Load CLIP\n",
    "model = CLIPModel.from_pretrained(\"openai/clip-vit-base-patch32\", use_safetensors = True)\n",
    "processor = CLIPProcessor.from_pretrained(\"openai/clip-vit-base-patch32\")\n",
    "\n",
    "def get_embedding(image_path):\n",
    "    image = Image.open(image_path).convert(\"RGB\")\n",
    "    inputs = processor(images=image, return_tensors=\"pt\")\n",
    "    with torch.no_grad():\n",
    "        embedding = model.get_image_features(**inputs)\n",
    "    embedding = embedding.cpu().numpy().flatten()\n",
    "    return embedding / np.linalg.norm(embedding)  # normalize\n"
   ]
  },
  {
   "cell_type": "code",
   "execution_count": 17,
   "id": "aa0676e1",
   "metadata": {},
   "outputs": [],
   "source": [
    "# Uses cosine similarity to recommend the most relevant next image.\n",
    "\n",
    "\n",
    "\n",
    "import numpy as np\n",
    "\n",
    "# ---------------------------\n",
    "# Helper functions\n",
    "# ---------------------------\n",
    "\n",
    "def unit(x):\n",
    "    \"\"\"Normalize a vector to unit length.\"\"\"\n",
    "    norm = np.linalg.norm(x)\n",
    "    if norm == 0:\n",
    "        return x\n",
    "    return x / norm\n",
    "\n",
    "def dot(a, b):\n",
    "    \"\"\"Dot product (cosine similarity if both are unit vectors).\"\"\"\n",
    "    return np.dot(a, b)\n",
    "\n",
    "\n",
    "# ---------------------------\n",
    "# Recommendation System\n",
    "# ---------------------------\n",
    "\n",
    "class ImageRecommender:\n",
    "    def __init__(self, image_embeddings, alpha=0.9, eta=1.0):\n",
    "        \"\"\"\n",
    "        image_embeddings : list or np.array of shape (N, D)\n",
    "            Precomputed embeddings for N images, each of dimension D.\n",
    "        alpha : float\n",
    "            Weight for old preference vector.\n",
    "        eta : float\n",
    "            Learning rate (weight for new feedback).\n",
    "        \"\"\"\n",
    "        self.image_embeddings = np.array(image_embeddings)\n",
    "        self.N, self.D = self.image_embeddings.shape\n",
    "        self.alpha = alpha\n",
    "        self.eta = eta\n",
    "        self.preference = np.zeros(self.D)  # start with zero preference\n",
    "\n",
    "        # Keep track of seen images\n",
    "        self.seen = set()\n",
    "\n",
    "    def update_preference(self, chosen_idx, feedback=1):\n",
    "        \"\"\"Update preference vector given user feedback.\"\"\"\n",
    "        e_chosen = self.image_embeddings[chosen_idx]\n",
    "        self.preference = unit(self.alpha * self.preference + self.eta * feedback * e_chosen)\n",
    "        self.seen.add(chosen_idx)\n",
    "\n",
    "    def recommend_next(self):\n",
    "        \"\"\"Recommend the next image based on current preference vector.\"\"\"\n",
    "        scores = []\n",
    "        for idx, e in enumerate(self.image_embeddings):\n",
    "            if idx in self.seen:\n",
    "                continue\n",
    "            score = dot(self.preference, e)\n",
    "            scores.append((idx, score))\n",
    "\n",
    "        # Pick image with highest score\n",
    "        if scores:\n",
    "            next_idx, best_score = max(scores, key=lambda x: x[1])\n",
    "            return next_idx, best_score\n",
    "        else:\n",
    "            return None, None\n"
   ]
  },
  {
   "cell_type": "code",
   "execution_count": null,
   "id": "8e14eaad",
   "metadata": {},
   "outputs": [
    {
     "name": "stdout",
     "output_type": "stream",
     "text": [
      "User liked: /Users/abdul/Downloads/Project/photos/3b6f33f2.jpg\n"
     ]
    }
   ],
   "source": [
    "chosen_idx = 0  # example\n",
    "rec.update_preference(chosen_idx=chosen_idx, feedback=1)\n",
    "\n",
    "# Show the current liked image\n",
    "print(\"User liked:\", paths[chosen_idx])\n",
    "\n",
    "from PIL import Image\n"
   ]
  },
  {
   "cell_type": "code",
   "execution_count": null,
   "id": "9f7fd8b7",
   "metadata": {},
   "outputs": [
    {
     "name": "stdout",
     "output_type": "stream",
     "text": [
      "Next recommended image: /Users/abdul/Downloads/Project/photos/018b51ef.jpg with score: 0.8870359409212728\n"
     ]
    }
   ],
   "source": [
    "next_idx, score = rec.recommend_next()\n",
    "print(\"Next recommended image:\", paths[next_idx], \"with score:\", score)\n"
   ]
  },
  {
   "cell_type": "code",
   "execution_count": null,
   "id": "f4e3e0ee",
   "metadata": {},
   "outputs": [],
   "source": []
  },
  {
   "cell_type": "code",
   "execution_count": null,
   "id": "356e9329",
   "metadata": {},
   "outputs": [],
   "source": []
  }
 ],
 "metadata": {
  "environment": {
   "kernel": "conda-base-py",
   "name": "workbench-notebooks.m131",
   "type": "gcloud",
   "uri": "us-docker.pkg.dev/deeplearning-platform-release/gcr.io/workbench-notebooks:m131"
  },
  "kernelspec": {
   "display_name": "swipe-sense",
   "language": "python",
   "name": "python3"
  },
  "language_info": {
   "codemirror_mode": {
    "name": "ipython",
    "version": 3
   },
   "file_extension": ".py",
   "mimetype": "text/x-python",
   "name": "python",
   "nbconvert_exporter": "python",
   "pygments_lexer": "ipython3",
   "version": "3.10.6"
  }
 },
 "nbformat": 4,
 "nbformat_minor": 5
}
